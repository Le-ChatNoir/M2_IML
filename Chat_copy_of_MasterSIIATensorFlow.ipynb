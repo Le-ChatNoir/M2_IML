{
  "nbformat": 4,
  "nbformat_minor": 0,
  "metadata": {
    "colab": {
      "name": "Lukas copy of MasterSIIATensorFlow.ipynb",
      "provenance": [],
      "collapsed_sections": []
    },
    "kernelspec": {
      "name": "python3",
      "display_name": "Python 3"
    }
  },
  "cells": [
    {
      "cell_type": "markdown",
      "metadata": {
        "id": "TrkXPt60RQZk"
      },
      "source": [
        "# TP d'appropriation de l'apprentissage artificiel et du \"Deep Learning\" avec Numpy, SKLearn et Keras\n",
        "### MASTER SIIA \n"
      ]
    },
    {
      "cell_type": "markdown",
      "metadata": {
        "id": "GqlQvQrhRTVM"
      },
      "source": [
        "#Introduction\n",
        "\n",
        "**TensorFlow** est un outil qui permet d'implémenter et de tester rapidement des algorithmes d'apprentissage artificiel profonds. Une de ses caractéristiques est d'être adapté à des architectures matérielles dédiées au calcul (GPU) et de permettre une distribution de ce calcul sur des grappes de machines très simplement. Il permet d'utiliser de nombreux algorithmes prets à l'usage mais également de définir soi même tous les composants d'une architecture profonde de façon très détaillée. Il est également doté d'un outil de visualisation de l'architecture en cours de construction grâce à **tensor board.**\n",
        "\n",
        "Sa prise en main nécessite de connaitre les principaux algorithmes et principes d'apprentissage ainsi que la manipulation de données avec **Numpy**. Durant ce TP nous allons commencer par une présentation rapide de quelques fonctions de **Numpy** qui est une librairie python dédiée au calcul numérique. Nous aborderons également **matplotlib** qui vous permettra de tracer des courbes facilement. Nous verrons leur usage à travers l'utilisation de quelques fonctions de **Scikit-learn** également dédiée à l'apprentissage artificiel. **Scikit-Learn (Ou SKlearn)** avait été regroupé avec **Tensor Flow 1** pour donner naissance a **skFlow**. Néanmoins, cette librairie fut progressivement remplacer par **Keras** conjointement avec l'arrivée de **Tensor Flow 2**. Tout ceci a pour but de vous expliquer pourquoi, il y a parfois des confusion entre les versions, les codes, les noms des librairies. **Keras** a l'ambition d'être uns sur-couche à plusieurs librairies dont **Tensor flow**. Cependant pour entrer dans le détail des modèles, il est nécessaire de descendre un cran en dessous (chose que nous n'aurons sans doute pas le temps de faire). \n",
        "\n",
        "### Evolution 2020 :\n",
        "La crise sanitaire m'a incité à passer ce TP sous notebook google collab mais il est toujours possible d'exécuter le code en local sur vos machines. La principale difficulté étant celle de l'installation des bonnes versions des libraires. Il existe donc deux versions du TP, la version présente contient du code *Tensor Flow 2* exécutable sous Google Collab. Vous trouverez sur ma page web une version compatible avec **Tensor flow 1 et skLearn**.\n",
        "\n",
        "# Numpy\n",
        "\n",
        "**Numpy** permet une manipulation rapide de structures de données telles que les matrices (classe `array`). Il implémente également de façon rigoureuse des opérations sur les données grâce à la classe `linalg`. Le code suivant montre comment générer des données de test. Ici une entrée est une valeur choisie aléatoirement (et rangée dans le tableau X) et une sortie est calculée comme une fonction linéaire de l'entrée auquel on a ajouté un bruit (rangée dans le tableau y)."
      ]
    },
    {
      "cell_type": "code",
      "metadata": {
        "id": "39tdZRRASg_0"
      },
      "source": [
        "import numpy as np\n",
        "nbDonnee = 100\n",
        "X = 3*np.random.rand(nbDonnee,1) # Génération de 100 valeurs aléatoires représentant 100 exemples d'entrées.\n",
        "y = 2 + 4*X + np.random.randn(nbDonnee,1) # Génération des données de sorties qui sont une fonction des entrées plus un bruit."
      ],
      "execution_count": null,
      "outputs": []
    },
    {
      "cell_type": "markdown",
      "metadata": {
        "id": "lDgRpSHbSmGd"
      },
      "source": [
        "Vous pouvez afficher les points correspondants grâce à `matplotlib`"
      ]
    },
    {
      "cell_type": "code",
      "metadata": {
        "colab": {
          "base_uri": "https://localhost:8080/",
          "height": 265
        },
        "id": "JNqUGVvHSpIT",
        "outputId": "1686a1a6-1bb9-4f39-e02f-a26166322e7e"
      },
      "source": [
        "import matplotlib\n",
        "import matplotlib.pyplot as plt\n",
        "plt.plot(X,y, \"b.\") # On trace un point bleu pour chaque point des données\n",
        "plt.axis([0,3,0,15]) # On fixe les bornes de l'abscisse et de l'ordonnée du graphique\n",
        "plt.show() # On affiche le tout"
      ],
      "execution_count": null,
      "outputs": [
        {
          "output_type": "display_data",
          "data": {
            "image/png": "[encoded data removed]",
            "text/plain": [
              "<Figure size 432x288 with 1 Axes>"
            ]
          },
          "metadata": {
            "tags": [],
            "needs_background": "light"
          }
        }
      ]
    },
    {
      "cell_type": "markdown",
      "metadata": {
        "id": "NEAAAZqnSyxU"
      },
      "source": [
        "Rappelons qu'une régression linéaire consiste à calculer le vecteur \\($\\Theta\\$) tel que l'estimation de \\(y\\) connaissant une entrée \\(x\\), est :\n",
        "\n",
        "$$ \\widehat y = h_{\\Theta}(x) = \\Theta^{T}.x $$\n",
        "\n",
        "\\($h_{\\Theta}$\\) étant une fonction hypothèse (linéaire), dépendant des paramètres \\($\\Theta$\\).\n",
        "\n",
        "Rappelons également qu'il existe une solution analytique du calcul de \\($\\Theta$\\) minimisant la moyenne du carré des erreurs de prédiction, cette solution est :\n",
        "\n",
        "$$ \\widehat \\Theta = (X^T.X)^{-1}.X^T.y $$\n",
        "\n",
        "Où \\($X$\\) est l'ensemble des données d'entrée.\n",
        "\n",
        "Numpy permet de transposer des matrices (operateur `T`) d'en faire le produit (fonction `dot()`) ou de les inverser (fonction `inv()`) de la classe `linalg`).\n",
        "\n",
        "Rappelons également qu'une combinaison linéaire lorsque les entrées ne sont composées que d'une valeur \\($x_1$\\), se calcule de la façon suivante :\n",
        "\n",
        "$$ \\widehat y = \\Theta_0 + \\Theta_1 * x_1 $$.\n",
        "\n",
        "Par conséquent, pour faire le calcul de \\($\\Theta$\\), il faut ajouter une colonne de 1 aux entrées X pour introduire \\($\\Theta_0$\\) dans la solution.\n",
        "\n",
        "Ceci se fait avec l'opérateur `c_` qui permet de concaténer des colonnes. On peut ainsi calculer la régression linéaire et l'afficher :"
      ]
    },
    {
      "cell_type": "code",
      "metadata": {
        "colab": {
          "base_uri": "https://localhost:8080/",
          "height": 302
        },
        "id": "IadXt-ifTOKD",
        "outputId": "bf8f8d57-9318-45d4-cae0-0d7e7f150b19"
      },
      "source": [
        "import time\n",
        "X_b = np.c_[np.ones((nbDonnee,1)),X] # Ajout de la constante '1' à chaque donnée pour calculer le biais theta0 (rappelons que l'équation d'une regression linéaire est y = theta0 + theta1*x1 + theta2*x2 + ... Ici on a juste une valeur par exemple (donc x1) et on ajoute le 1 pour calculer le theta0 \n",
        "before = time.time() #permettra d'obtenir le temps de calcul de l'algorithme\n",
        "\n",
        "#Fonction qui fait le calcul Theta^ etc. Le theta best, c'est l'equivalent du Tetha chapeau. C'est la valeur des paramettres theta qui permettent de generer y^.\n",
        "#C'est une valeur qu'on veut generer a partir de X. X n'a qu'une dimension. Pour une valeur de X, on peut generer un Y pour avoir une droite tel que ax + b.\n",
        "#On avait y = 0 et x = 1. Le theta est donc un vecteur qui contient theta0 et theta1.\n",
        "#Si on considere qu'on va calculer une sortie . Coef directeur qui se calcule avec une formule theta^ (la deuxieme). A partie des differentes valeurs de Y trouvées sur des exemples. On met tous nos X dans un gros vecteur X, et tous les Y dans un gros vecteur Y, et on va trouver theta (les poids),\n",
        "#les valeurs des paramettres de la droite qui vont minimiser la différence entre les vrais points et cette droite. Et theta best, c'est la droite qui va minimiser l'écart entre les données et elles meme.\n",
        "#Une équiation lineaire c'est ax + b, et b est un coef par lequel on ne multiplie pas X, c'est une constante, la valeur de la droite pour laquelle X = 0.\n",
        "#A X = 0, Y = b. Pour représenter ce b, on doit le multiplier par 1 lorsqu'on fait X*theta. C'est ce 1 * b qu'on représente par des 1. On a 1 * b + x * a. Ce poids 1 est donc mis pour le représenter dans le calcul de y.\n",
        "\n",
        "\"\"\"Pour la Q1, on crée des X a partie du bloc de code n°1. On crée des données a partie d'une droite qui s'appelle y= 2 + 4*x+(nprandom...). On a pris des valeurs X aléatoirement. C'est des données similaires a un cas réel, pas\n",
        "tout couvert. On a artificiellement fait que le Y soit proche d'une droite avec un peu de bruit (le random). Cette droite là, le code peut la calculer (grâce au theta). Ca correspond a peu pret a la droite 2+4x. Comme les points\n",
        "ne sont pas uniformement répartis, ça peut changer un peu. Maintenant, on imagine que les points bleus, au lieu de leur faire suivre une droite, on leur fait suivre un chemin qui n'est pas une droite. (donc a modifier dans le bloc 1)\"\"\"\n",
        "\n",
        "theta_best=np.linalg.inv(X_b.T.dot(X_b)).dot(X_b.T).dot(y) #  Numpy est doté de nombreux algorithmes d'algèbre linéaire. Ici, il permet de calculer l'inverse d'une matrice. (rappelons qu'il existe une solution analytique permettant de calculer le theta qui minimise la MSE et qui est [1/(Xt.X)].Xt.y\n",
        "print(\"Theta : \", theta_best)\n",
        "# Nous allons maintenant tracer la droite représentant le theta_best ainsi que les points utilisés pour l'apprendre\n",
        "X_new= np.array([[0],[3]]) # Choix de 2 valeurs de X\n",
        "X_new_b = np.c_[np.ones((2,1)),X_new] # On ajoute le '1' à chaque donnée\n",
        "y_predict = X_new_b.dot(theta_best) # on calcul le y à partir de theta_best\n",
        "plt.plot(X_new, y_predict, \"r-\") # On trace une droite rouge entre les 2 points prédits\n",
        "plt.plot(X,y, \"b.\") #On trace un point bleu pour chaque point des données utilisées pour apprendre theta\n",
        "plt.axis([0,3,0,15]) # On fixe les bornes de l'abscisse et de l'ordonnée du graphique\n",
        "plt.show() # On affiche la courbe"
      ],
      "execution_count": null,
      "outputs": [
        {
          "output_type": "stream",
          "text": [
            "Theta :  [[-2.97010893]\n",
            " [11.22901475]]\n"
          ],
          "name": "stdout"
        },
        {
          "output_type": "display_data",
          "data": {
            "image/png": "[encoded data removed]",
            "text/plain": [
              "<Figure size 432x288 with 1 Axes>"
            ]
          },
          "metadata": {
            "tags": [],
            "needs_background": "light"
          }
        }
      ]
    },
    {
      "cell_type": "markdown",
      "metadata": {
        "id": "kFKj6ctrTXx8"
      },
      "source": [
        "## Question 1 :\n",
        "\n",
        "Tester le code précédent et observer les courbes correspondantes. Générez des données ne se rapprochant pas d'une droite (par exemple à l'aide d'une fonction sinusoïdale, une puissance ou toute autre fonction non linéaire) et faites une regression linéaire. Affichez le résultat. Quelle conclusion ?\n",
        "\n",
        "----------------------\n",
        "Changement de la ligne\n",
        "`y = 2 + 4*X + np.random.randn(nbDonnee,1) # Génération des données de sorties qui sont une fonction des entrées plus un bruit.`\n",
        "par `y = 2 + 4*pow(X,2) + np.random.randn(nbDonnee,1) # Génération des données de sorties qui sont une fonction des entrées plus un bruit.`pour avoir une correspondace a une droite au carré. Puisque theta n'est fait que pour calculer une droite, elle ne correspond pas a une fonction non linéaire.\n",
        "\n",
        "## Question 2 :\n",
        "\n",
        "Ajoutez une colonne aux entrées qui représentent les valeurs de ces entrées mises au carré. Faite une régression linéaire sur cette représentation des entrées par 2 valeurs.\n",
        "\n",
        "Une exemple de code permettant de construire un tableau `X2` du carré des éléments d'un tableau `X` à l'aide d'une lambda fonction est:"
      ]
    },
    {
      "cell_type": "code",
      "metadata": {
        "colab": {
          "base_uri": "https://localhost:8080/",
          "height": 550
        },
        "id": "zUKIapQn-j7V",
        "outputId": "97de6425-1805-4a93-c26e-b10a9f1dd1ca"
      },
      "source": [
        "#Q1\n",
        "import numpy as np\n",
        "import matplotlib\n",
        "import matplotlib.pyplot as plt\n",
        "import time\n",
        "\n",
        "nbDonnee = 100\n",
        "X = 3*np.random.rand(nbDonnee,1) # Génération de 100 valeurs aléatoires représentant 100 exemples d'entrées.\n",
        "y = 2 + 4*pow(X,2) + np.random.randn(nbDonnee,1) # Génération des données de sorties qui sont une fonction des entrées plus un bruit.\n",
        "\n",
        "plt.plot(X,y, \"b.\") # On trace un point bleu pour chaque point des données\n",
        "plt.axis([0,3,0,15]) # On fixe les bornes de l'abscisse et de l'ordonnée du graphique\n",
        "plt.show() # On affiche le tout\n",
        "\n",
        "X_b = np.c_[np.ones((nbDonnee,1)),X] # Ajout de la constante '1' à chaque donnée pour calculer le biais theta0 (rappelons que l'équation d'une regression linéaire est y = theta0 + theta1*x1 + theta2*x2 + ... Ici on a juste une valeur par exemple (donc x1) et on ajoute le 1 pour calculer le theta0 \n",
        "before = time.time() #permettra d'obtenir le temps de calcul de l'algorithme\n",
        "\n",
        "theta_best=np.linalg.inv(X_b.T.dot(X_b)).dot(X_b.T).dot(y) #  Numpy est doté de nombreux algorithmes d'algèbre linéaire. Ici, il permet de calculer l'inverse d'une matrice. (rappelons qu'il existe une solution analytique permettant de calculer le theta qui minimise la MSE et qui est [1/(Xt.X)].Xt.y\n",
        "print(\"Theta : \", theta_best)\n",
        "# Nous allons maintenant tracer la droite représentant le theta_best ainsi que les points utilisés pour l'apprendre\n",
        "X_new= np.array([[0],[3]]) # Choix de 2 valeurs de X\n",
        "X_new_b = np.c_[np.ones((2,1)),X_new] # On ajoute le '1' à chaque donnée\n",
        "y_predict = X_new_b.dot(theta_best) # on calcul le y à partir de theta_best\n",
        "plt.plot(X_new, y_predict, \"r-\") # On trace une droite rouge entre les 2 points prédits\n",
        "plt.plot(X,y, \"b.\") #On trace un point bleu pour chaque point des données utilisées pour apprendre theta\n",
        "plt.axis([0,3,0,15]) # On fixe les bornes de l'abscisse et de l'ordonnée du graphique\n",
        "plt.show() # On affiche la courbe"
      ],
      "execution_count": null,
      "outputs": [
        {
          "output_type": "display_data",
          "data": {
            "image/png": "[encoded data removed]",
            "text/plain": [
              "<Figure size 432x288 with 1 Axes>"
            ]
          },
          "metadata": {
            "tags": [],
            "needs_background": "light"
          }
        },
        {
          "output_type": "stream",
          "text": [
            "Theta :  [[-3.36157636]\n",
            " [11.71898002]]\n"
          ],
          "name": "stdout"
        },
        {
          "output_type": "display_data",
          "data": {
            "image/png": "[encoded data removed]",
            "text/plain": [
              "<Figure size 432x288 with 1 Axes>"
            ]
          },
          "metadata": {
            "tags": [],
            "needs_background": "light"
          }
        }
      ]
    },
    {
      "cell_type": "code",
      "metadata": {
        "colab": {
          "base_uri": "https://localhost:8080/",
          "height": 568
        },
        "id": "_qu2sbho_Gpy",
        "outputId": "b82a6b11-47c5-42fd-d667-39570ef530b0"
      },
      "source": [
        "#Q2\n",
        "import numpy as np\n",
        "import matplotlib\n",
        "import matplotlib.pyplot as plt\n",
        "import time\n",
        "\n",
        "nbDonnee = 100\n",
        "X = 3*np.random.rand(nbDonnee,1) # Génération de 100 valeurs aléatoires représentant 100 exemples d'entrées.\n",
        "y = 2 + 4*pow(X,2) + np.random.randn(nbDonnee,1) # Génération des données de sorties qui sont une fonction des entrées plus un bruit.\n",
        "\n",
        "plt.plot(X,y, \"b.\") # On trace un point bleu pour chaque point des données\n",
        "plt.axis([0,3,0,15]) # On fixe les bornes de l'abscisse et de l'ordonnée du graphique\n",
        "plt.show() # On affiche le tout\n",
        "\n",
        "X_b = np.c_[np.ones((nbDonnee,1)),X] # Ajout de la constante '1' à chaque donnée pour calculer le biais theta0 (rappelons que l'équation d'une regression linéaire est y = theta0 + theta1*x1 + theta2*x2 + ... Ici on a juste une valeur par exemple (donc x1) et on ajoute le 1 pour calculer le theta0 \n",
        "#Quand on va faire le calcul du model, on va avoir la dimension X et la dimension X², c'est a partir des deux qu'il va essayer de calculer Y.\n",
        "#Avant on avait ax + b, maintenant on aura ax + b + cx². Mais il ne decomposra que en droite. On reste sur des droites, mais on a un plan entre x et x².\n",
        "#Dans la Q1, elle contient 1 et X. Maintenant elle contiendra 1, x, et x². A ca on va appliquer la recherche des coef theta, et on espere que le fait d'avoir introduit x² dans les entrées, on aura un Y qui sera autre chose qu'une droite.\n",
        "#Si on met que pow(X,2), on va rajouter des infos redondantes, et voir si ca l'aide.\n",
        "X_b = np.c_[X_b, pow(X,2)] # Q2: Ajout de ces valeurs au carré, concatenation de X_b qui contenant les 1 et les X, et on y ajoute les X au carré\n",
        "#On doit avoir des paquets de 3 valeurs (1, x aléatoir, X²)\n",
        "#print(X_b)\n",
        "\n",
        "before = time.time() #permettra d'obtenir le temps de calcul de l'algorithme\n",
        "theta_best=np.linalg.inv(X_b.T.dot(X_b)).dot(X_b.T).dot(y) #  Numpy est doté de nombreux algorithmes d'algèbre linéaire. Ici, il permet de calculer l'inverse d'une matrice. (rappelons qu'il existe une solution analytique permettant de calculer le theta qui minimise la MSE et qui est [1/(Xt.X)].Xt.y\n",
        "print(\"Theta : \", theta_best)\n",
        "# Nous allons maintenant tracer la droite représentant le theta_best ainsi que les points utilisés pour l'apprendre\n",
        "\n",
        "#Choix de deux valeur de X pour lequelles on calcul de y en utilisant theta x. On applique pour les deux y = ax + b et a partir des deux points, on fait la droite, puisqu'on a que deux points. Maintenant, comme les donnees ont ete crees\n",
        "#a partir de X ET de X². Le y, a partir de X n'est plus une droite. On ne peut plus l'utiliser que de deux points. On doit maintenant faire une série de X (0, 0.2, 0.4, 0,6...) et on affiche des points et non plus des droites.\n",
        "#La droite rouge est faite a partir des points, il faut donc faire un array non pas de [0][3] mais un array de range entre 0 et 3 avec un pas de 0.2.\n",
        "X_new= np.array(np.arange(start=0, stop=3, step=0.2)) # Decoupage de X en segments de taille 0.2 entre 0 et 3.\n",
        "X_new_b = np.c_[np.ones((15,1)),X_new] # On ajoute le '1' à chaque donnée pour les 15 valeurs\n",
        "#il faut faire le meme traitement pour les x² que ce qu'on a fait pour les 1 pour en faire les nouvelles entrées.\n",
        "#X c'est toutes nos valeurs donc 100 valeurs, X_new, c'est de quoi faire ax, et x_new_b, c'est X plus un vecteur de 1, dont on a besoin pour calculer theta. X_new_b, c'est les X auquelq on a ajouté le 1 pour ajouter le biais dans les droites\n",
        "X_new_square = np.c_[pow(X_new,2),X_new_b]\n",
        "\n",
        "y_predict = X_new_square.dot(theta_best) # on calcul le y à partir de theta_best\n",
        "#Fait pour afficher une droite, il faut modifier car le X_new n'utilisait que 2 points, 0 et 3. Ca créait une droite avec 2 points. Maintenant, chaque y dépend de X et de X². Il faut génerer une liste de X_new. Faire un range de 0 à 3 avec un interval\n",
        "# de 0.2, et calculer ces Y a partir de beaucoup plus de X_new. On trace donc un point a partir des points bleus au lieu d'une droite.\n",
        "plt.plot(X_new, y_predict, \"r-\") # On trace une droite rouge entre les 2 points prédits\n",
        "plt.plot(X,y, \"b.\") #On trace un point bleu pour chaque point des données utilisées pour apprendre theta\n",
        "plt.axis([0,3,0,15]) # On fixe les bornes de l'abscisse et de l'ordonnée du graphique\n",
        "plt.show() # On affiche la courbe"
      ],
      "execution_count": null,
      "outputs": [
        {
          "output_type": "display_data",
          "data": {
            "image/png": "[encoded data removed]",
            "text/plain": [
              "<Figure size 432x288 with 1 Axes>"
            ]
          },
          "metadata": {
            "tags": [],
            "needs_background": "light"
          }
        },
        {
          "output_type": "stream",
          "text": [
            "Theta :  [[1.58073057]\n",
            " [0.50446725]\n",
            " [3.87824949]]\n"
          ],
          "name": "stdout"
        },
        {
          "output_type": "display_data",
          "data": {
            "image/png": "[encoded data removed]",
            "text/plain": [
              "<Figure size 432x288 with 1 Axes>"
            ]
          },
          "metadata": {
            "tags": [],
            "needs_background": "light"
          }
        }
      ]
    },
    {
      "cell_type": "code",
      "metadata": {
        "id": "j_GEUqKJTpa1"
      },
      "source": [
        "X2 = np.apply_along_axis(lambda x: (x*x), 0, X)"
      ],
      "execution_count": null,
      "outputs": []
    },
    {
      "cell_type": "markdown",
      "metadata": {
        "id": "MGfAvvhTTsgT"
      },
      "source": [
        "Attention, il n'est plus possible de tracer une droite pour représenter les sorties calculées par le modèle puisqu'elles ne suivent plus l'équation d'une droite.\n",
        "\n",
        "Quelle Conclusion ?"
      ]
    },
    {
      "cell_type": "markdown",
      "metadata": {
        "id": "xZZsRrptT4jz"
      },
      "source": [
        "# Scikit-Learn\n",
        "\n",
        "`Scikit-Learn` permet d'utiliser des algorithmes d'apprentissage artificiel 'tout prêts' et apporte également des fonctions supplémentaires bien utiles. Nous allons d'ailleurs commencer par une généralisation de ce qui a été fait précédemment grâce à lui. On parle de **polynomialisation**. Il s'agit d'ajouter aux *features* leur valeur au carré, à la puissance 3, à la puissance n, ainsi que la valeur de leurs produits respectifs (par exemple x1 * x2) et de leur produit au carré, à la puissance n ... Ceci devrait améliorer la précision du prédicteur (au risque de lui faire faire du sur-apprentissage).\n",
        "\n",
        "Dans `Scikit-learn`, il existe un moyen rapide de polynomiser un vecteur de features : la classe `PolynomialFeatures` :\n",
        "\n"
      ]
    },
    {
      "cell_type": "code",
      "metadata": {
        "colab": {
          "base_uri": "https://localhost:8080/"
        },
        "id": "U-SigosZUb6k",
        "outputId": "fad03be4-d8fd-4645-d5a4-5ea3a4b898e2"
      },
      "source": [
        "import numpy as np\n",
        "from sklearn.preprocessing import PolynomialFeatures\n",
        "# on va pousser jusque la puissance 3 et on ajoute la colonne de 1 pour le Theta0\n",
        "poly_features = PolynomialFeatures(degree=3, include_bias=True) \n",
        "X = 3*np.random.rand(3,1) # Generation de trois valeurs pouvant représenter 3 exemples d'entrées\n",
        "X_poly=poly_features.fit_transform(X) # Cette fonction fait la polynomialisation pour nous ;-)\n",
        "print (\"X : \" , X)\n",
        "print (\"X_poly : \", X_poly)"
      ],
      "execution_count": null,
      "outputs": [
        {
          "output_type": "stream",
          "text": [
            "X :  [[2.27915404]\n",
            " [1.36342446]\n",
            " [0.46160826]]\n",
            "X_poly :  [[ 1.          2.27915404  5.19454312 11.83916392]\n",
            " [ 1.          1.36342446  1.85892627  2.53450555]\n",
            " [ 1.          0.46160826  0.21308219  0.0983605 ]]\n"
          ],
          "name": "stdout"
        }
      ]
    },
    {
      "cell_type": "markdown",
      "metadata": {
        "id": "0tfse6xZUf9z"
      },
      "source": [
        "## Question 3:\n",
        "\n",
        "*   Testez une fonction à apprendre assez complexe avec différents degrès de polynomialisation.\n",
        "*   Découpez ce jeu en 2/3 dédié à l'apprentissage et 1/3 dédié à la vérification (jeu de test). On découpe un tableau en deux de cette façon:"
      ]
    },
    {
      "cell_type": "code",
      "metadata": {
        "colab": {
          "base_uri": "https://localhost:8080/"
        },
        "id": "0R3isD0DU3H7",
        "outputId": "45370944-4765-4905-aa08-0774c9acf1f4"
      },
      "source": [
        "a = [1,2,3,4,5]\n",
        "b = a[:2]\n",
        "print(b)\n",
        "\n",
        "import numpy as np\n",
        "\n",
        "c = np.array([[1,2,3],[4,5,6]])\n",
        "print (c[:,2])\n"
      ],
      "execution_count": null,
      "outputs": [
        {
          "output_type": "stream",
          "text": [
            "[1, 2]\n",
            "[3 6]\n"
          ],
          "name": "stdout"
        }
      ]
    },
    {
      "cell_type": "code",
      "metadata": {
        "colab": {
          "base_uri": "https://localhost:8080/"
        },
        "id": "inzuIFp4Ijzs",
        "outputId": "62742cf8-94c9-4c8c-ce5c-3ccde88ecf37"
      },
      "source": [
        "#Q3\n",
        "import numpy as np\n",
        "from sklearn.preprocessing import PolynomialFeatures\n",
        "\n",
        "nbDonnee = 600\n",
        "\n",
        "#On veut que le model prédise Y a partir de X, pas x etc... Nous on veut donner un X, et avoir un Y. Comme on fait de la polynomialisation, on le fait a l'apprentissage et au test.\n",
        "#Reprendre le code de calcul theta_best et replacer par ce qui sort de x_poly\n",
        "\n",
        "# on va pousser jusque la puissance 3 et on ajoute la colonne de 1 pour le Theta0\n",
        "poly_features = PolynomialFeatures(degree=3, include_bias=True) \n",
        "X = 22*np.random.rand(nbDonnee,1)-7\n",
        "func = lambda x: (np.sqrt(np.sin(x)**2+0.01)*np.exp(-np.abs(2-x/3)))\n",
        "X_poly=poly_features.fit_transform(X) # Cette fonction fait la polynomialisation pour nous ;-)\n",
        "y2 = np.apply_along_axis(func, 0, X) # Génération des données de sorties qui sont une fonction des entrées.\n",
        "\n",
        "func = lambda x: (np.sqrt(np.sin(x)**2+0.01)*np.exp(-np.abs(2-x/3)))\n",
        "y2 = np.apply_along_axis(func, 0, X)\n",
        "\n",
        "#Découpage en 2/3 apprentissage et 1/3 test\n",
        "print(\"Nombre de données : \", nbDonnee)\n",
        "print(\"Taille set d'apprentissage : \", round(2*nbDonnee/3) )\n",
        "print(\"Taille set de test : \", round(nbDonnee/3) )\n",
        "base_apprentissage = X_poly[round(2*nbDonnee/3):]\n",
        "base_test = X_poly[:round(nbDonnee/3)]\n",
        "\n",
        "print (\"X : \" , X)\n",
        "print (\"X_poly : \", X_poly)\n",
        "print(\"Y : \" , y)"
      ],
      "execution_count": null,
      "outputs": [
        {
          "output_type": "stream",
          "text": [
            "Nombre de données :  5\n",
            "Taille set d'apprentissage :  3\n",
            "Taille set de test :  2\n",
            "X :  [[2.40919794]\n",
            " [1.52420379]\n",
            " [1.76499185]\n",
            " [0.46578021]\n",
            " [0.5167944 ]]\n",
            "X_poly :  [[ 1.          2.40919794  5.80423473 13.98355037]\n",
            " [ 1.          1.52420379  2.32319721  3.541026  ]\n",
            " [ 1.          1.76499185  3.11519622  5.49829594]\n",
            " [ 1.          0.46578021  0.21695121  0.10105158]\n",
            " [ 1.          0.5167944   0.26707645  0.13802362]]\n",
            "Y :  [[  6.11365637  25.33059529 136.87021956 784.27238047]\n",
            " [  5.66832159  10.96111042  23.25730266  51.82378213]\n",
            " [  7.54175224  16.00253713  42.35954225 124.46678501]\n",
            " [  5.41330376   2.28110859   1.60157506   1.45414945]\n",
            " [  5.55870589   2.6270117    1.84402522   1.63490796]]\n"
          ],
          "name": "stdout"
        }
      ]
    },
    {
      "cell_type": "markdown",
      "metadata": {
        "id": "nyRiKF8eV0fT"
      },
      "source": [
        "##Question 4\n",
        "\n",
        "Calculez la MSE (moyenne des erreurs au carré) des données apprises et la MSE de données de test. Observez le sur-apprentissage. Avec scikit-learn, le calcul de la MSE se fait ainsi :"
      ]
    },
    {
      "cell_type": "code",
      "metadata": {
        "colab": {
          "base_uri": "https://localhost:8080/"
        },
        "id": "X1c3JxT-V6uD",
        "outputId": "691eed0f-1d66-457d-f737-af5fc3cb6d09"
      },
      "source": [
        "\n",
        "from sklearn.metrics import mean_squared_error\n",
        "y = [1, 2, -2, 3, 1.5] # y sont les valeurs des sorties réelles qu'il faudrait retrouver\n",
        "yp = [0.2, 1.8, 3, 2,2] # yp sont les valeurs estimées par l'algorithme d'apprentissage\n",
        "MSE = mean_squared_error(y,yp)\n",
        "print(MSE)"
      ],
      "execution_count": null,
      "outputs": [
        {
          "output_type": "stream",
          "text": [
            "5.386\n"
          ],
          "name": "stdout"
        }
      ]
    },
    {
      "cell_type": "markdown",
      "metadata": {
        "id": "5ODhDR-NWEkq"
      },
      "source": [
        "## Notion de régularisation\n",
        "\n",
        "Trouver la polynomialisation qui permet d'éviter le sur-apprentissage tout en garantissant un apprentissage s'appelle la \"régularisation\" d'un modèle. Il existe différentes façons de régulariser une regression. Parmi elles, il y a la \"Ridge Regression\" encore nommée la Regularisation de Tikhonov, la Regression en lasso (Least Absolute Shrinkage and Selection Operator Regression), l'Elastic Net ou le Early Stopping. Je vous invite à consulter la litterature pour avoir des détails sur ces différentes méthodes ([par exemple ici](https://towardsdatascience.com/regularization-in-machine-learning-76441ddcf99a))."
      ]
    },
    {
      "cell_type": "markdown",
      "metadata": {
        "id": "D2mLDN8x0rKL"
      },
      "source": [
        "# Utiliser des bases de données\n",
        "\n",
        "Pour tester des algorithmes d'apprentissage, on ne peut se contenter de données à une ou deux *features* et surtout, il faut les éprouver sur des données *réelles*. Il existe de très nombreuses bases de données disponibles (par exemple le [data set du CMU](http://lib.stat.cmu.edu/datasets/), voir la [liste Wikipedia à ce sujet](https://en.wikipedia.org/wiki/List_of_datasets_for_machine-learning_research)). `Scikit-Learn` possède un package `datasets` qui permet d'accéder à différents exemples de données. Il existe une fonction `load` pour chaque base : `load_boston()`, `load_iris()`, `load_diabetes()`, `load_digits()` ... `Scikit-learn` fournit également des images (`load_sample_image()`) et des générateurs de données permettant de fabriquer des valeurs controlées et des bases de toute taille. Nous allons utiliser une base très classique `iris` qui contient des fleurs réparties selon trois classes. Le fait d'appartenir à une classe dépendant de différentes propriétés de la fleur ([voir ici les détails sur iris](https://archive.ics.uci.edu/ml/datasets/iris)). Le code ci-dessous vous permet de visualiser la classe de chaque fleur en fonction de ces propriétés (longueur des pétales, longueur des sépales, largeurs des sépales, largeurs des pétales).\n"
      ]
    },
    {
      "cell_type": "markdown",
      "metadata": {
        "id": "WwV6qhA0YuY3"
      },
      "source": [
        ""
      ]
    },
    {
      "cell_type": "code",
      "metadata": {
        "colab": {
          "base_uri": "https://localhost:8080/",
          "height": 391
        },
        "id": "tJ5469Zs0mkv",
        "outputId": "9f169763-43c5-42b9-f2ea-930f0306013b"
      },
      "source": [
        "import numpy as np\n",
        "import matplotlib.pyplot as plt\n",
        "plt.style.use('ggplot')\n",
        "\n",
        "from sklearn.datasets import load_iris\n",
        "\n",
        "iris = load_iris()\n",
        "X = iris['data']\n",
        "y = iris['target']\n",
        "names = iris['target_names']\n",
        "feature_names = iris['feature_names']\n",
        "\n",
        "# Visualize the data sets\n",
        "plt.figure(figsize=(16, 6))\n",
        "plt.subplot(1, 2, 1)\n",
        "for target, target_name in enumerate(names):\n",
        "    X_plot = X[y == target]\n",
        "    plt.plot(X_plot[:, 0], X_plot[:, 1], linestyle='none', marker='o', label=target_name)\n",
        "plt.xlabel(feature_names[0])\n",
        "plt.ylabel(feature_names[1])\n",
        "plt.axis('equal')\n",
        "plt.legend();\n",
        "\n",
        "plt.subplot(1, 2, 2)\n",
        "for target, target_name in enumerate(names):\n",
        "    X_plot = X[y == target]\n",
        "    plt.plot(X_plot[:, 2], X_plot[:, 3], linestyle='none', marker='o', label=target_name)\n",
        "plt.xlabel(feature_names[2])\n",
        "plt.ylabel(feature_names[3])\n",
        "plt.axis('equal')\n",
        "plt.legend();"
      ],
      "execution_count": null,
      "outputs": [
        {
          "output_type": "display_data",
          "data": {
            "image/png": "[encoded data removed]",
            "text/plain": [
              "<Figure size 1152x432 with 2 Axes>"
            ]
          },
          "metadata": {
            "tags": []
          }
        }
      ]
    },
    {
      "cell_type": "markdown",
      "metadata": {
        "id": "kgvyBzR6WZ1i"
      },
      "source": [
        "#Première Régression Logistique\n",
        "\n",
        "Nous allons maintenant entrer dans le vif du sujet en essayant de faire une régression logistique sur cette base de donnée 'iris`. La regression logistique (appelée parfois Logit Regression) permet de classer des données ou plutôt de fournir une probabilité d'appartenance d'une donnée à une classe (si la probabilité est supérieure à 0.5 on l'affecte à une classe et si elle est inférieure à 0.5, on ne l'affecte pas à cette classe).\n",
        "\n",
        "Cette probabilité est $$\\widehat p = h_\\Theta(x) = \\sigma(\\Theta^T . x) $$ où $\\Theta$ est le vecteur des poids à calculer et sigma est la fonction logistique : $$\\sigma(t)= {1 \\over (1 + exp(-t))}$$\n",
        "\n",
        "De façon plus explicite, on calcul une fonction linéaire $\\theta_1*x_1 + \\theta_2*x_2 + ...\\theta_n*x_n$ que l'on fait passer dans une fonction sigmoïde $\\sigma()$ (qui permet de renvoyer une valeur comprise entre 0 et 1) qui est alors la probabilité d'appartenance de la donnée d'entrée à la classe concernée.\n",
        "\n",
        "Il n'y a pas de solution analytique à la recherche du vecteur des poids $\\Theta$ mais la fonction de cout ([log loss](https://towardsdatascience.com/understanding-binary-cross-entropy-log-loss-a-visual-explanation-a3ac6025181a)), qui est la moyenne des couts sur un ensemble de données d'apprentissage, est convexe (Il n'y a pas de minimums locaux) et donc on peut calculer les poids avec une simple descente de gradient et être sûr que l'on obtient un apprentissage optimal. Pour cela, `Scikit-learn` fournit une classe `LogisticRegression` qui possède une méthode `fit()` calculant les poids $\\Theta $ par descente de gradient. Ceci permettant donc de fournir une probabilité d'appartenance à une classe (en prenant les `features` d'un exemple en entrée). Le code ci-dessous illustre ce processus.\n",
        "Sur la figure finale sont représentées :\n",
        "* en bleu, l'appartenance ou non à la classe *iris virginica* de chaque exemple en fonction de la largeur des pétales.\n",
        "* en vert la sortie de la fonction sigmoïde ($\\sigma()$, donc la probabilité d'appartenir à la classe *iris virginica*) en fonction d'une valeur de largeur de pétales.\n",
        "* en rouge, le complément : la probabilité de ne pas appartenir à cette classe."
      ]
    },
    {
      "cell_type": "code",
      "metadata": {
        "colab": {
          "base_uri": "https://localhost:8080/",
          "height": 317
        },
        "id": "c-lj1SORY2JD",
        "outputId": "eff94631-f639-4dd9-96ca-61fc511b17e0"
      },
      "source": [
        "from sklearn import datasets,  metrics\n",
        "from sklearn.linear_model import LogisticRegression\n",
        "import numpy as np\n",
        "import matplotlib.pyplot as plt\n",
        "iris = datasets.load_iris()\n",
        "#print(list(iris.keys()))\n",
        "# ['target_names', 'data', 'DESCR', 'target', 'feature_names']\n",
        "# Chaque fleur possède 4 features (de 0 à 3), la 3 étant la largeur les pétales\n",
        "Largeur = iris[\"data\"][:, 3:]\n",
        "# La \"target\" étant un type de fleur compris entre 0 et 2\n",
        "Type = (iris[\"target\"] == 2).astype(np.int) # On créé une liste qui contient 1 lorsque la fleur est de type 2 et 0 sinon pour faire une classification\n",
        "log_reg = LogisticRegression() # On créé un modèle de régression logistique (qui définit ce qu'est la fonction cout et qui sait calculer la régression)\n",
        "log_reg.fit(Largeur,Type)\n",
        "# On va créer une représentation de ce que rend le modèle (Type en fonction de largeur)\n",
        "Largeur_new = np.linspace(0,3,100).reshape(-1,1) # linspace renvoie 100 valeurs permettant d'aller de 0 à 3, reshape() les repositionne dans un tableau à 1 colonne pour pouvoir les envoyer à \"predict_proba\"\n",
        "#print(\"Largeur_new\")\n",
        "#print(Largeur_new)\n",
        "Type_proba = log_reg.predict_proba(Largeur_new) # predict proba renvoie un tableau de 2 colonnes : proba classe False / proba classe True\n",
        "#print(\"Typeproba\")\n",
        "#print(Type_proba)\n",
        "plt.plot(Largeur_new, Type_proba[:,1], \"g-\", label = \"Iris-Virginica\") #en vert ligne continue\n",
        "plt.xlabel(\"largeur pétale\")\n",
        "plt.ylabel(\"Probabilité d'être une Iris Virginica\")\n",
        "plt.plot(Largeur_new, Type_proba[:,0], \"r--\", label = \"Pas une Iris-Virginica\") #en rouge ligne pointillés\n",
        "plt.plot(Largeur,Type, \"bo\") # Dessine les données initiales avec un rond bleu\n",
        "plt.show()\n",
        "# Le code suivant recalcul les valeurs que donne le modèle à partir des données d'entrée pour calculer l'accuracy (la précision)\n",
        "Type_proba = log_reg.predict_proba(Largeur) \n",
        "prediction = (Type_proba[:, 1:]>0.5).astype(np.int)\n",
        "#print(\"Type Proba : \", Type_proba)\n",
        "#print(\"Prediction : \", prediction)\n",
        "score = metrics.accuracy_score(Type, prediction)\n",
        "print (\"Accuracy: %f\" % score)"
      ],
      "execution_count": null,
      "outputs": [
        {
          "output_type": "display_data",
          "data": {
            "image/png": "[encoded data removed]",
            "text/plain": [
              "<Figure size 432x288 with 1 Axes>"
            ]
          },
          "metadata": {
            "tags": [],
            "needs_background": "light"
          }
        },
        {
          "output_type": "stream",
          "text": [
            "Accuracy: 0.960000\n",
            "MSE: 0.040000\n"
          ],
          "name": "stdout"
        }
      ]
    },
    {
      "cell_type": "markdown",
      "metadata": {
        "id": "aSi7W4YPZYYc"
      },
      "source": [
        "## Question 4 :\n",
        "\n",
        "Exécutez le code précédent. Calculez la MSE sur la base des exemples. Ajoutez une `feature` (longueur des pétales) aux données, refaite un apprentissage et comparez à nouveau la MSE. Faites la même chose en intégrant toutes les `features` (largeur et longueur des sépales)\n",
        "\n",
        "Conclusion ?\n",
        "\n",
        "----------------------\n",
        "\n",
        "La MSE de base est 0.04 (1 - Accuracy).\n",
        "En ajoutant la longueur, on se retrouve avec une MSE de 0.033, ce qui est mieux que le test de base.\n",
        "Et, lorsque l'on utilise toutes les features, on est a 0.026, ce qui est encore mieux. Ajouter des features permet de préciser à quoi ressemble chaque classe. L'erreur est donc réduite plus on est précis sur ce que l'on souhaite avoir (le set d'entrainement).\n"
      ]
    },
    {
      "cell_type": "code",
      "metadata": {
        "colab": {
          "base_uri": "https://localhost:8080/"
        },
        "id": "neHA6yZu8ZaJ",
        "outputId": "ee034a84-46ae-431f-cfd6-7eb53d26902a"
      },
      "source": [
        "from sklearn import datasets,  metrics\n",
        "from sklearn.linear_model import LogisticRegression\n",
        "import numpy as np\n",
        "import matplotlib.pyplot as plt\n",
        "iris = datasets.load_iris()\n",
        "#print(list(iris.keys()))\n",
        "# ['target_names', 'data', 'DESCR', 'target', 'feature_names']\n",
        "# Chaque fleur possède 4 features (de 0 à 3), la 3 étant la largeur les pétales\n",
        "Largeur = iris[\"data\"][:, 3:]\n",
        "\n",
        "#LONGUEUR AJOUTEE\n",
        "#Pour faire un Fit, il faut combinner Largeur et Longuer dans un tableau, car fit ne prend qu'un argument. Donc on ne prend toutes les valeurs du champ 2 (longueur) et celles du champ 3 (largeur)\n",
        "#Le tri se fera seul, on peut tout mettre en vrac\n",
        "LargeurLongueur = iris[\"data\"][:, 2:]\n",
        "\n",
        "# La \"target\" étant un type de fleur compris entre 0 et 2\n",
        "Type = (iris[\"target\"] == 2).astype(np.int) # On créé une liste qui contient 1 lorsque la fleur est de type 2 et 0 sinon pour faire une classification\n",
        "log_reg = LogisticRegression() # On créé un modèle de régression logistique (qui définit ce qu'est la fonction cout et qui sait calculer la régression)\n",
        "log_reg.fit(LargeurLongueur,Type)\n",
        "# On va créer une représentation de ce que rend le modèle (Type en fonction de largeur)\n",
        "#Largeur_new doit donner le bon nombre de valeurs. On reshape alors a 2 puisque l'on a 2 champs, au lieu du (-1, 1) original\n",
        "Largeur_new = np.linspace(0,3,100).reshape(-1,2) # linspace renvoie 100 valeurs permettant d'aller de 0 à 3, reshape() les repositionne dans un tableau à 1 colonne pour pouvoir les envoyer à \"predict_proba\"\n",
        "#print(\"Largeur_new\")\n",
        "#print(Largeur_new)\n",
        "Type_proba = log_reg.predict_proba(Largeur_new) # predict proba renvoie un tableau de 2 colonnes : proba classe False / proba classe True\n",
        "#print(\"Typeproba\")\n",
        "#print(Type_proba)\n",
        "# Le code suivant recalcul les valeurs que donne le modèle à partir des données d'entrée pour calculer l'accuracy (la précision)\n",
        "Type_proba = log_reg.predict_proba(LargeurLongueur) \n",
        "prediction = (Type_proba[:, 1:]>0.5).astype(np.int)\n",
        "#print(\"Type Proba : \", Type_proba)\n",
        "#print(\"Prediction : \", prediction)\n",
        "print(\"Pour largeur et longueur:\")\n",
        "score = metrics.accuracy_score(Type, prediction)\n",
        "print (\"Accuracy: %f\" % score)\n",
        "MSE = metrics.mean_squared_error(Type, prediction)\n",
        "print(\"MSE: %f\" % MSE)\n",
        "\n",
        "#TOUTES LES DONNEES\n",
        "#On recupere toutes les features de iris\n",
        "AllFeatures = iris[\"data\"][:, 0:]\n",
        "\n",
        "# La \"target\" étant un type de fleur compris entre 0 et 2\n",
        "Type = (iris[\"target\"] == 2).astype(np.int) # On créé une liste qui contient 1 lorsque la fleur est de type 2 et 0 sinon pour faire une classification\n",
        "log_reg = LogisticRegression() # On créé un modèle de régression logistique (qui définit ce qu'est la fonction cout et qui sait calculer la régression)\n",
        "log_reg.fit(AllFeatures,Type)\n",
        "# On va créer une représentation de ce que rend le modèle (Type en fonction de largeur)\n",
        "#Largeur_new doit donner le bon nombre de valeurs. On reshape alors a 4 puisque l'on a 4 champs, au lieu du (-1, 1) original\n",
        "Largeur_new = np.linspace(0,3,100).reshape(-1,4) # linspace renvoie 100 valeurs permettant d'aller de 0 à 3, reshape() les repositionne dans un tableau à 1 colonne pour pouvoir les envoyer à \"predict_proba\"\n",
        "#print(\"Largeur_new\")\n",
        "#print(Largeur_new)\n",
        "Type_proba = log_reg.predict_proba(Largeur_new) # predict proba renvoie un tableau de 2 colonnes : proba classe False / proba classe True\n",
        "#print(\"Typeproba\")\n",
        "#print(Type_proba)\n",
        "# Le code suivant recalcul les valeurs que donne le modèle à partir des données d'entrée pour calculer l'accuracy (la précision)\n",
        "Type_proba = log_reg.predict_proba(AllFeatures) \n",
        "prediction = (Type_proba[:, 1:]>0.5).astype(np.int)\n",
        "#print(\"Type Proba : \", Type_proba)\n",
        "#print(\"Prediction : \", prediction)\n",
        "print(\"Pour toutes les features:\")\n",
        "score = metrics.accuracy_score(Type, prediction)\n",
        "print (\"Accuracy: %f\" % score)\n",
        "MSE = metrics.mean_squared_error(Type, prediction)\n",
        "print(\"MSE: %f\" % MSE)"
      ],
      "execution_count": null,
      "outputs": [
        {
          "output_type": "stream",
          "text": [
            "Pour largeur et longueur:\n",
            "Accuracy: 0.966667\n",
            "MSE: 0.033333\n",
            "Pour toutes les features:\n",
            "Accuracy: 0.973333\n",
            "MSE: 0.026667\n"
          ],
          "name": "stdout"
        }
      ]
    },
    {
      "cell_type": "markdown",
      "metadata": {
        "id": "AyYxkZqYaXWV"
      },
      "source": [
        "# Keras :\n",
        "Lorsque nous utilisions `Tensor Flow 1.X`, nous avions une encapsulation de Tensor flow dans Scikit-learn appelée `Scikit-flow`. Cette libraire a été abandonnée au profit de `keras` lors du passage à `Tensor Flow 2.X` qui a l'avantage de pouvoir encapsuler non seulement `tensor flow` mais d'autres librairies de machine learning.\n",
        "\n",
        "C'est une façon simple et rapide d'utiliser `TensorFlow`. Ci-dessous, la classe `LinearClassifier` est tout simplement un classifier basé sur une fonction logistique (pour 2 classes) et softmax (pour plus de 2 classes). Elle réalise donc a peu près le même travail que la régression logistique précédente. Néanmoins, il y a des nuances à observer :\n",
        "* Keras (et tensor flow) étant spécifiquement dédiés à de l'apprentissage artificiel, un ensemble séparé de données d'entrainement et de tests est attendu\n",
        "* L'algorithme d'apprentissage peut être plus finement paramétré. Par défaut une descente de gradient consiste à calculer l'erreur cumulée sur toutes les données et à rétropropager celle-ci sur les différents paramètre du modèle. Ceci est très lent alors qu'en prenant des petits paquets de données et en calculant une erreur cumulée sur ces petits paquets, on peut remettre à jour les paramètres du modèle beaucoup plus osuvent. On utilise pour cela la notion  de *mini-batch* et d'*epoch*.  Une *epoch* correspond au nombre de fois que l'on fait passer l'ensemble des données dans l'algorithme. Un *mini-batch* est un paquet de données que l'on fait passer dans le modèle avant de mettre à jour les paramètres du modèle via la rétropropagation du gradient. Dans ce cas, il faut fixer la taille des *mini-batch*. Enfin, il existe différentes catégorie d'algorithmes (certains recalculant les mini-batch aléatoirement par exemple) qui font que plusieurs heures seraient nécessaires pour tous les énumérer. Pour les curieux, il est possible de consulter cette [page](https://ruder.io/optimizing-gradient-descent/index.html#gradientdescentvariants) . \n",
        "* Ici, on construit un modèle qui est un empilement de couches. Ici étant donné que l'on reproduit une régression logistique, il y a une seule couche *Dense* (toutes les entrées sont reliées à tous les neurosnes) qui contient un seul \"neurone\" avec une fonction de transfert *sigmoid*. \n"
      ]
    },
    {
      "cell_type": "code",
      "metadata": {
        "colab": {
          "base_uri": "https://localhost:8080/"
        },
        "id": "NidNrpyhtYvm",
        "outputId": "2203df9b-3e6c-4b4e-9394-eb7582f58d19"
      },
      "source": [
        "import numpy as np\n",
        "import pandas as pd\n",
        "import matplotlib.pyplot as plt\n",
        "from tensorflow import keras\n",
        "from keras.layers import Dense\n",
        "from keras.models import Sequential\n",
        "from sklearn.datasets import load_iris\n",
        "from sklearn.model_selection import train_test_split\n",
        "\n",
        "# Préparation des données :\n",
        "\n",
        "iris = load_iris()\n",
        "#Chargement de toutes les donnees feature\n",
        "X = iris['data']\n",
        "Y = (iris[\"target\"] == 2).astype(np.int) # On créé une liste qui contient 1 lorsque la fleur est de type 2 et 0 sinon pour faire une classification\n",
        "X_train, X_test, Y_train, Y_test = train_test_split(X, Y, test_size=0.5, random_state=2)\n",
        "#On a 4 features\n",
        "n_features = X[0].size\n",
        "print(\"n_features : \", n_features)\n",
        "model = keras.Sequential()\n",
        "#On crée une seule couche avec un seul neurone avec une fonction de transfert sigmoid, elle correspond donc au meme type que Q4.\n",
        "model.add(keras.layers.Dense(1, input_shape=(n_features,), activation='sigmoid'))\n",
        "model.compile(optimizer='sgd', loss='binary_crossentropy', metrics=['binary_accuracy'])\n",
        "\n",
        "\n",
        "model.fit(X_train, Y_train,\n",
        "                                 batch_size=5,\n",
        "                                 epochs=100,\n",
        "                                 verbose=1,\n",
        "                                 validation_data=(X_test, Y_test)\n",
        "                        )\n",
        "\n",
        "\n"
      ],
      "execution_count": 6,
      "outputs": [
        {
          "output_type": "stream",
          "text": [
            "n_features :  4\n",
            "Epoch 1/100\n",
            "15/15 [==============================] - 0s 8ms/step - loss: 0.5435 - binary_accuracy: 0.6800 - val_loss: 0.4895 - val_binary_accuracy: 0.7467\n",
            "Epoch 2/100\n",
            "15/15 [==============================] - 0s 2ms/step - loss: 0.5237 - binary_accuracy: 0.6667 - val_loss: 0.4795 - val_binary_accuracy: 0.7600\n",
            "Epoch 3/100\n",
            "15/15 [==============================] - 0s 2ms/step - loss: 0.5074 - binary_accuracy: 0.6667 - val_loss: 0.4680 - val_binary_accuracy: 0.7467\n",
            "Epoch 4/100\n",
            "15/15 [==============================] - 0s 2ms/step - loss: 0.5022 - binary_accuracy: 0.7067 - val_loss: 0.4602 - val_binary_accuracy: 0.7467\n",
            "Epoch 5/100\n",
            "15/15 [==============================] - 0s 2ms/step - loss: 0.5027 - binary_accuracy: 0.6933 - val_loss: 0.4543 - val_binary_accuracy: 0.8133\n",
            "Epoch 6/100\n",
            "15/15 [==============================] - 0s 2ms/step - loss: 0.4854 - binary_accuracy: 0.7067 - val_loss: 0.4512 - val_binary_accuracy: 0.7733\n",
            "Epoch 7/100\n",
            "15/15 [==============================] - 0s 2ms/step - loss: 0.4856 - binary_accuracy: 0.7067 - val_loss: 0.4391 - val_binary_accuracy: 0.8400\n",
            "Epoch 8/100\n",
            "15/15 [==============================] - 0s 2ms/step - loss: 0.4855 - binary_accuracy: 0.7067 - val_loss: 0.4361 - val_binary_accuracy: 0.8133\n",
            "Epoch 9/100\n",
            "15/15 [==============================] - 0s 2ms/step - loss: 0.4755 - binary_accuracy: 0.7333 - val_loss: 0.4254 - val_binary_accuracy: 0.8267\n",
            "Epoch 10/100\n",
            "15/15 [==============================] - 0s 2ms/step - loss: 0.4673 - binary_accuracy: 0.7333 - val_loss: 0.4200 - val_binary_accuracy: 0.8400\n",
            "Epoch 11/100\n",
            "15/15 [==============================] - 0s 2ms/step - loss: 0.4616 - binary_accuracy: 0.7733 - val_loss: 0.4260 - val_binary_accuracy: 0.7867\n",
            "Epoch 12/100\n",
            "15/15 [==============================] - 0s 2ms/step - loss: 0.4638 - binary_accuracy: 0.7467 - val_loss: 0.4144 - val_binary_accuracy: 0.8267\n",
            "Epoch 13/100\n",
            "15/15 [==============================] - 0s 2ms/step - loss: 0.4488 - binary_accuracy: 0.7333 - val_loss: 0.4047 - val_binary_accuracy: 0.8533\n",
            "Epoch 14/100\n",
            "15/15 [==============================] - 0s 2ms/step - loss: 0.4490 - binary_accuracy: 0.7867 - val_loss: 0.4004 - val_binary_accuracy: 0.8267\n",
            "Epoch 15/100\n",
            "15/15 [==============================] - 0s 3ms/step - loss: 0.4468 - binary_accuracy: 0.7600 - val_loss: 0.3972 - val_binary_accuracy: 0.8533\n",
            "Epoch 16/100\n",
            "15/15 [==============================] - 0s 3ms/step - loss: 0.4507 - binary_accuracy: 0.7067 - val_loss: 0.3924 - val_binary_accuracy: 0.8533\n",
            "Epoch 17/100\n",
            "15/15 [==============================] - 0s 2ms/step - loss: 0.4424 - binary_accuracy: 0.7733 - val_loss: 0.3899 - val_binary_accuracy: 0.8533\n",
            "Epoch 18/100\n",
            "15/15 [==============================] - 0s 2ms/step - loss: 0.4330 - binary_accuracy: 0.7333 - val_loss: 0.3837 - val_binary_accuracy: 0.8800\n",
            "Epoch 19/100\n",
            "15/15 [==============================] - 0s 2ms/step - loss: 0.4266 - binary_accuracy: 0.7867 - val_loss: 0.4038 - val_binary_accuracy: 0.8000\n",
            "Epoch 20/100\n",
            "15/15 [==============================] - 0s 2ms/step - loss: 0.4276 - binary_accuracy: 0.8000 - val_loss: 0.3886 - val_binary_accuracy: 0.8400\n",
            "Epoch 21/100\n",
            "15/15 [==============================] - 0s 3ms/step - loss: 0.4258 - binary_accuracy: 0.8133 - val_loss: 0.3864 - val_binary_accuracy: 0.8400\n",
            "Epoch 22/100\n",
            "15/15 [==============================] - 0s 3ms/step - loss: 0.4192 - binary_accuracy: 0.7733 - val_loss: 0.3724 - val_binary_accuracy: 0.8933\n",
            "Epoch 23/100\n",
            "15/15 [==============================] - 0s 3ms/step - loss: 0.4180 - binary_accuracy: 0.8667 - val_loss: 0.3678 - val_binary_accuracy: 0.8667\n",
            "Epoch 24/100\n",
            "15/15 [==============================] - 0s 2ms/step - loss: 0.4168 - binary_accuracy: 0.8400 - val_loss: 0.3652 - val_binary_accuracy: 0.8800\n",
            "Epoch 25/100\n",
            "15/15 [==============================] - 0s 2ms/step - loss: 0.4104 - binary_accuracy: 0.8133 - val_loss: 0.3620 - val_binary_accuracy: 0.8933\n",
            "Epoch 26/100\n",
            "15/15 [==============================] - 0s 2ms/step - loss: 0.4113 - binary_accuracy: 0.8267 - val_loss: 0.3684 - val_binary_accuracy: 0.8400\n",
            "Epoch 27/100\n",
            "15/15 [==============================] - 0s 3ms/step - loss: 0.4092 - binary_accuracy: 0.8133 - val_loss: 0.3549 - val_binary_accuracy: 0.9067\n",
            "Epoch 28/100\n",
            "15/15 [==============================] - 0s 2ms/step - loss: 0.4046 - binary_accuracy: 0.8267 - val_loss: 0.3526 - val_binary_accuracy: 0.9067\n",
            "Epoch 29/100\n",
            "15/15 [==============================] - 0s 3ms/step - loss: 0.4085 - binary_accuracy: 0.8267 - val_loss: 0.3542 - val_binary_accuracy: 0.8933\n",
            "Epoch 30/100\n",
            "15/15 [==============================] - 0s 2ms/step - loss: 0.4023 - binary_accuracy: 0.8533 - val_loss: 0.3505 - val_binary_accuracy: 0.8933\n",
            "Epoch 31/100\n",
            "15/15 [==============================] - 0s 3ms/step - loss: 0.3939 - binary_accuracy: 0.8533 - val_loss: 0.3478 - val_binary_accuracy: 0.9067\n",
            "Epoch 32/100\n",
            "15/15 [==============================] - 0s 3ms/step - loss: 0.3954 - binary_accuracy: 0.8667 - val_loss: 0.3441 - val_binary_accuracy: 0.9200\n",
            "Epoch 33/100\n",
            "15/15 [==============================] - 0s 3ms/step - loss: 0.3912 - binary_accuracy: 0.8400 - val_loss: 0.3480 - val_binary_accuracy: 0.8800\n",
            "Epoch 34/100\n",
            "15/15 [==============================] - 0s 3ms/step - loss: 0.3922 - binary_accuracy: 0.8400 - val_loss: 0.3434 - val_binary_accuracy: 0.8933\n",
            "Epoch 35/100\n",
            "15/15 [==============================] - 0s 2ms/step - loss: 0.3889 - binary_accuracy: 0.8400 - val_loss: 0.3587 - val_binary_accuracy: 0.8533\n",
            "Epoch 36/100\n",
            "15/15 [==============================] - 0s 3ms/step - loss: 0.3892 - binary_accuracy: 0.8533 - val_loss: 0.3389 - val_binary_accuracy: 0.8933\n",
            "Epoch 37/100\n",
            "15/15 [==============================] - 0s 3ms/step - loss: 0.3790 - binary_accuracy: 0.8800 - val_loss: 0.3476 - val_binary_accuracy: 0.8533\n",
            "Epoch 38/100\n",
            "15/15 [==============================] - 0s 3ms/step - loss: 0.3779 - binary_accuracy: 0.8800 - val_loss: 0.3505 - val_binary_accuracy: 0.8533\n",
            "Epoch 39/100\n",
            "15/15 [==============================] - 0s 3ms/step - loss: 0.3874 - binary_accuracy: 0.8133 - val_loss: 0.3302 - val_binary_accuracy: 0.9200\n",
            "Epoch 40/100\n",
            "15/15 [==============================] - 0s 2ms/step - loss: 0.3769 - binary_accuracy: 0.8667 - val_loss: 0.3246 - val_binary_accuracy: 0.9333\n",
            "Epoch 41/100\n",
            "15/15 [==============================] - 0s 3ms/step - loss: 0.3787 - binary_accuracy: 0.8400 - val_loss: 0.3243 - val_binary_accuracy: 0.9333\n",
            "Epoch 42/100\n",
            "15/15 [==============================] - 0s 2ms/step - loss: 0.3732 - binary_accuracy: 0.8667 - val_loss: 0.3236 - val_binary_accuracy: 0.9200\n",
            "Epoch 43/100\n",
            "15/15 [==============================] - 0s 3ms/step - loss: 0.3716 - binary_accuracy: 0.8667 - val_loss: 0.3270 - val_binary_accuracy: 0.9200\n",
            "Epoch 44/100\n",
            "15/15 [==============================] - 0s 3ms/step - loss: 0.3731 - binary_accuracy: 0.8667 - val_loss: 0.3187 - val_binary_accuracy: 0.9467\n",
            "Epoch 45/100\n",
            "15/15 [==============================] - 0s 3ms/step - loss: 0.3699 - binary_accuracy: 0.9067 - val_loss: 0.3152 - val_binary_accuracy: 0.9467\n",
            "Epoch 46/100\n",
            "15/15 [==============================] - 0s 3ms/step - loss: 0.3636 - binary_accuracy: 0.8933 - val_loss: 0.3212 - val_binary_accuracy: 0.9333\n",
            "Epoch 47/100\n",
            "15/15 [==============================] - 0s 2ms/step - loss: 0.3626 - binary_accuracy: 0.8800 - val_loss: 0.3125 - val_binary_accuracy: 0.9600\n",
            "Epoch 48/100\n",
            "15/15 [==============================] - 0s 3ms/step - loss: 0.3675 - binary_accuracy: 0.8933 - val_loss: 0.3162 - val_binary_accuracy: 0.9333\n",
            "Epoch 49/100\n",
            "15/15 [==============================] - 0s 3ms/step - loss: 0.3589 - binary_accuracy: 0.9067 - val_loss: 0.3105 - val_binary_accuracy: 0.9467\n",
            "Epoch 50/100\n",
            "15/15 [==============================] - 0s 3ms/step - loss: 0.3629 - binary_accuracy: 0.8800 - val_loss: 0.3097 - val_binary_accuracy: 0.9200\n",
            "Epoch 51/100\n",
            "15/15 [==============================] - 0s 3ms/step - loss: 0.3600 - binary_accuracy: 0.8667 - val_loss: 0.3071 - val_binary_accuracy: 0.9467\n",
            "Epoch 52/100\n",
            "15/15 [==============================] - 0s 3ms/step - loss: 0.3533 - binary_accuracy: 0.8800 - val_loss: 0.3161 - val_binary_accuracy: 0.8933\n",
            "Epoch 53/100\n",
            "15/15 [==============================] - 0s 3ms/step - loss: 0.3546 - binary_accuracy: 0.8667 - val_loss: 0.3021 - val_binary_accuracy: 0.9733\n",
            "Epoch 54/100\n",
            "15/15 [==============================] - 0s 3ms/step - loss: 0.3551 - binary_accuracy: 0.9067 - val_loss: 0.3036 - val_binary_accuracy: 0.9467\n",
            "Epoch 55/100\n",
            "15/15 [==============================] - 0s 2ms/step - loss: 0.3531 - binary_accuracy: 0.8667 - val_loss: 0.3018 - val_binary_accuracy: 0.9467\n",
            "Epoch 56/100\n",
            "15/15 [==============================] - 0s 2ms/step - loss: 0.3521 - binary_accuracy: 0.9067 - val_loss: 0.2977 - val_binary_accuracy: 0.9733\n",
            "Epoch 57/100\n",
            "15/15 [==============================] - 0s 3ms/step - loss: 0.3481 - binary_accuracy: 0.8933 - val_loss: 0.2956 - val_binary_accuracy: 0.9467\n",
            "Epoch 58/100\n",
            "15/15 [==============================] - 0s 3ms/step - loss: 0.3522 - binary_accuracy: 0.9200 - val_loss: 0.3017 - val_binary_accuracy: 0.9333\n",
            "Epoch 59/100\n",
            "15/15 [==============================] - 0s 3ms/step - loss: 0.3499 - binary_accuracy: 0.8933 - val_loss: 0.2986 - val_binary_accuracy: 0.9333\n",
            "Epoch 60/100\n",
            "15/15 [==============================] - 0s 2ms/step - loss: 0.3469 - binary_accuracy: 0.8933 - val_loss: 0.2979 - val_binary_accuracy: 0.9333\n",
            "Epoch 61/100\n",
            "15/15 [==============================] - 0s 2ms/step - loss: 0.3461 - binary_accuracy: 0.8800 - val_loss: 0.2972 - val_binary_accuracy: 0.9333\n",
            "Epoch 62/100\n",
            "15/15 [==============================] - 0s 2ms/step - loss: 0.3395 - binary_accuracy: 0.8933 - val_loss: 0.2886 - val_binary_accuracy: 0.9600\n",
            "Epoch 63/100\n",
            "15/15 [==============================] - 0s 2ms/step - loss: 0.3441 - binary_accuracy: 0.8933 - val_loss: 0.2884 - val_binary_accuracy: 0.9733\n",
            "Epoch 64/100\n",
            "15/15 [==============================] - 0s 3ms/step - loss: 0.3406 - binary_accuracy: 0.8933 - val_loss: 0.2873 - val_binary_accuracy: 0.9733\n",
            "Epoch 65/100\n",
            "15/15 [==============================] - 0s 3ms/step - loss: 0.3349 - binary_accuracy: 0.9200 - val_loss: 0.2867 - val_binary_accuracy: 0.9600\n",
            "Epoch 66/100\n",
            "15/15 [==============================] - 0s 3ms/step - loss: 0.3392 - binary_accuracy: 0.8933 - val_loss: 0.2860 - val_binary_accuracy: 0.9600\n",
            "Epoch 67/100\n",
            "15/15 [==============================] - 0s 3ms/step - loss: 0.3388 - binary_accuracy: 0.9067 - val_loss: 0.2833 - val_binary_accuracy: 0.9733\n",
            "Epoch 68/100\n",
            "15/15 [==============================] - 0s 2ms/step - loss: 0.3361 - binary_accuracy: 0.8933 - val_loss: 0.2807 - val_binary_accuracy: 0.9600\n",
            "Epoch 69/100\n",
            "15/15 [==============================] - 0s 3ms/step - loss: 0.3330 - binary_accuracy: 0.8800 - val_loss: 0.2855 - val_binary_accuracy: 0.9600\n",
            "Epoch 70/100\n",
            "15/15 [==============================] - 0s 2ms/step - loss: 0.3290 - binary_accuracy: 0.9067 - val_loss: 0.2807 - val_binary_accuracy: 0.9733\n",
            "Epoch 71/100\n",
            "15/15 [==============================] - 0s 3ms/step - loss: 0.3295 - binary_accuracy: 0.9200 - val_loss: 0.2860 - val_binary_accuracy: 0.9467\n",
            "Epoch 72/100\n",
            "15/15 [==============================] - 0s 3ms/step - loss: 0.3310 - binary_accuracy: 0.9067 - val_loss: 0.2863 - val_binary_accuracy: 0.9200\n",
            "Epoch 73/100\n",
            "15/15 [==============================] - 0s 2ms/step - loss: 0.3276 - binary_accuracy: 0.8933 - val_loss: 0.2810 - val_binary_accuracy: 0.9600\n",
            "Epoch 74/100\n",
            "15/15 [==============================] - 0s 2ms/step - loss: 0.3268 - binary_accuracy: 0.8933 - val_loss: 0.2780 - val_binary_accuracy: 0.9600\n",
            "Epoch 75/100\n",
            "15/15 [==============================] - 0s 3ms/step - loss: 0.3238 - binary_accuracy: 0.9200 - val_loss: 0.2730 - val_binary_accuracy: 0.9733\n",
            "Epoch 76/100\n",
            "15/15 [==============================] - 0s 3ms/step - loss: 0.3247 - binary_accuracy: 0.9200 - val_loss: 0.2778 - val_binary_accuracy: 0.9600\n",
            "Epoch 77/100\n",
            "15/15 [==============================] - 0s 2ms/step - loss: 0.3221 - binary_accuracy: 0.9200 - val_loss: 0.2733 - val_binary_accuracy: 0.9600\n",
            "Epoch 78/100\n",
            "15/15 [==============================] - 0s 3ms/step - loss: 0.3162 - binary_accuracy: 0.9333 - val_loss: 0.2690 - val_binary_accuracy: 0.9733\n",
            "Epoch 79/100\n",
            "15/15 [==============================] - 0s 3ms/step - loss: 0.3216 - binary_accuracy: 0.9200 - val_loss: 0.2732 - val_binary_accuracy: 0.9600\n",
            "Epoch 80/100\n",
            "15/15 [==============================] - 0s 2ms/step - loss: 0.3235 - binary_accuracy: 0.8933 - val_loss: 0.2696 - val_binary_accuracy: 0.9733\n",
            "Epoch 81/100\n",
            "15/15 [==============================] - 0s 3ms/step - loss: 0.3186 - binary_accuracy: 0.9067 - val_loss: 0.2717 - val_binary_accuracy: 0.9600\n",
            "Epoch 82/100\n",
            "15/15 [==============================] - 0s 2ms/step - loss: 0.3159 - binary_accuracy: 0.8800 - val_loss: 0.2648 - val_binary_accuracy: 0.9733\n",
            "Epoch 83/100\n",
            "15/15 [==============================] - 0s 2ms/step - loss: 0.3190 - binary_accuracy: 0.9200 - val_loss: 0.2637 - val_binary_accuracy: 0.9733\n",
            "Epoch 84/100\n",
            "15/15 [==============================] - 0s 3ms/step - loss: 0.3155 - binary_accuracy: 0.9333 - val_loss: 0.2653 - val_binary_accuracy: 0.9733\n",
            "Epoch 85/100\n",
            "15/15 [==============================] - 0s 3ms/step - loss: 0.3143 - binary_accuracy: 0.9200 - val_loss: 0.2666 - val_binary_accuracy: 0.9600\n",
            "Epoch 86/100\n",
            "15/15 [==============================] - 0s 3ms/step - loss: 0.3139 - binary_accuracy: 0.9067 - val_loss: 0.2689 - val_binary_accuracy: 0.9600\n",
            "Epoch 87/100\n",
            "15/15 [==============================] - 0s 3ms/step - loss: 0.3121 - binary_accuracy: 0.8933 - val_loss: 0.2597 - val_binary_accuracy: 0.9733\n",
            "Epoch 88/100\n",
            "15/15 [==============================] - 0s 3ms/step - loss: 0.3129 - binary_accuracy: 0.9333 - val_loss: 0.2605 - val_binary_accuracy: 0.9867\n",
            "Epoch 89/100\n",
            "15/15 [==============================] - 0s 3ms/step - loss: 0.3116 - binary_accuracy: 0.9200 - val_loss: 0.2596 - val_binary_accuracy: 0.9867\n",
            "Epoch 90/100\n",
            "15/15 [==============================] - 0s 3ms/step - loss: 0.3099 - binary_accuracy: 0.9067 - val_loss: 0.2611 - val_binary_accuracy: 0.9600\n",
            "Epoch 91/100\n",
            "15/15 [==============================] - 0s 3ms/step - loss: 0.3096 - binary_accuracy: 0.9333 - val_loss: 0.2583 - val_binary_accuracy: 0.9867\n",
            "Epoch 92/100\n",
            "15/15 [==============================] - 0s 3ms/step - loss: 0.3028 - binary_accuracy: 0.9333 - val_loss: 0.2664 - val_binary_accuracy: 0.9467\n",
            "Epoch 93/100\n",
            "15/15 [==============================] - 0s 3ms/step - loss: 0.3061 - binary_accuracy: 0.8933 - val_loss: 0.2558 - val_binary_accuracy: 0.9867\n",
            "Epoch 94/100\n",
            "15/15 [==============================] - 0s 3ms/step - loss: 0.3052 - binary_accuracy: 0.9200 - val_loss: 0.2564 - val_binary_accuracy: 0.9600\n",
            "Epoch 95/100\n",
            "15/15 [==============================] - 0s 2ms/step - loss: 0.3016 - binary_accuracy: 0.9333 - val_loss: 0.2641 - val_binary_accuracy: 0.9467\n",
            "Epoch 96/100\n",
            "15/15 [==============================] - 0s 2ms/step - loss: 0.3047 - binary_accuracy: 0.8933 - val_loss: 0.2533 - val_binary_accuracy: 0.9867\n",
            "Epoch 97/100\n",
            "15/15 [==============================] - 0s 2ms/step - loss: 0.2996 - binary_accuracy: 0.9200 - val_loss: 0.2566 - val_binary_accuracy: 0.9600\n",
            "Epoch 98/100\n",
            "15/15 [==============================] - 0s 2ms/step - loss: 0.2969 - binary_accuracy: 0.9333 - val_loss: 0.2500 - val_binary_accuracy: 0.9867\n",
            "Epoch 99/100\n",
            "15/15 [==============================] - 0s 3ms/step - loss: 0.2990 - binary_accuracy: 0.9200 - val_loss: 0.2525 - val_binary_accuracy: 0.9600\n",
            "Epoch 100/100\n",
            "15/15 [==============================] - 0s 3ms/step - loss: 0.2989 - binary_accuracy: 0.9333 - val_loss: 0.2538 - val_binary_accuracy: 0.9600\n"
          ],
          "name": "stdout"
        },
        {
          "output_type": "execute_result",
          "data": {
            "text/plain": [
              "<tensorflow.python.keras.callbacks.History at 0x7f80f7fb1908>"
            ]
          },
          "metadata": {
            "tags": []
          },
          "execution_count": 6
        }
      ]
    },
    {
      "cell_type": "markdown",
      "metadata": {
        "id": "6-RrmRB6msPu"
      },
      "source": [
        "`keras` (et `tensorflow`) sont destinés à faire des modèles profonds et à traiter des très gros ensembles de données. Il est alors très facile de prendre le code précédent et d'ajouter de couches et des neurones. Ci-dessous, je mets d'abord une couche dense de 10 neurones suivi de la couche d'un neurone permettant de définir la classe de l'entrée.\n"
      ]
    },
    {
      "cell_type": "code",
      "metadata": {
        "colab": {
          "base_uri": "https://localhost:8080/"
        },
        "id": "OUpoj9lfnZEk",
        "outputId": "f5c28cd6-75de-4f2f-936e-b7fa94594d84"
      },
      "source": [
        "model = keras.Sequential()\n",
        "#On a autant d'entrées dans input_shape qui correspondent aux sorties de la couche d'avant. On a 10 neurones qui prennent N features (donc 4) et qui ont tous des activations sigmoid\n",
        "#Il va donc lui meme relier les 10 neurones de la couche du dessus au neurone de la couche suivante\n",
        "model.add(keras.layers.Dense(10, input_shape=(n_features,), activation='sigmoid'))\n",
        "model.add(keras.layers.Dense(1, activation='sigmoid'))\n",
        "model.compile(optimizer='sgd', loss='binary_crossentropy', metrics=['binary_accuracy'])\n",
        "\n",
        "\n",
        "model.fit(X_train, Y_train,\n",
        "                                 batch_size=5,\n",
        "                                 epochs=50,\n",
        "                                 verbose=1,\n",
        "                                 validation_data=(X_test, Y_test)\n",
        "                        )"
      ],
      "execution_count": 7,
      "outputs": [
        {
          "output_type": "stream",
          "text": [
            "Epoch 1/50\n",
            "15/15 [==============================] - 0s 8ms/step - loss: 0.6747 - binary_accuracy: 0.6667 - val_loss: 0.6717 - val_binary_accuracy: 0.6667\n",
            "Epoch 2/50\n",
            "15/15 [==============================] - 0s 2ms/step - loss: 0.6685 - binary_accuracy: 0.6667 - val_loss: 0.6662 - val_binary_accuracy: 0.6667\n",
            "Epoch 3/50\n",
            "15/15 [==============================] - 0s 3ms/step - loss: 0.6632 - binary_accuracy: 0.6667 - val_loss: 0.6618 - val_binary_accuracy: 0.6667\n",
            "Epoch 4/50\n",
            "15/15 [==============================] - 0s 3ms/step - loss: 0.6601 - binary_accuracy: 0.6667 - val_loss: 0.6582 - val_binary_accuracy: 0.6667\n",
            "Epoch 5/50\n",
            "15/15 [==============================] - 0s 3ms/step - loss: 0.6565 - binary_accuracy: 0.6667 - val_loss: 0.6554 - val_binary_accuracy: 0.6667\n",
            "Epoch 6/50\n",
            "15/15 [==============================] - 0s 2ms/step - loss: 0.6535 - binary_accuracy: 0.6667 - val_loss: 0.6532 - val_binary_accuracy: 0.6667\n",
            "Epoch 7/50\n",
            "15/15 [==============================] - 0s 2ms/step - loss: 0.6522 - binary_accuracy: 0.6667 - val_loss: 0.6512 - val_binary_accuracy: 0.6667\n",
            "Epoch 8/50\n",
            "15/15 [==============================] - 0s 2ms/step - loss: 0.6501 - binary_accuracy: 0.6667 - val_loss: 0.6495 - val_binary_accuracy: 0.6667\n",
            "Epoch 9/50\n",
            "15/15 [==============================] - 0s 2ms/step - loss: 0.6492 - binary_accuracy: 0.6667 - val_loss: 0.6479 - val_binary_accuracy: 0.6667\n",
            "Epoch 10/50\n",
            "15/15 [==============================] - 0s 2ms/step - loss: 0.6475 - binary_accuracy: 0.6667 - val_loss: 0.6466 - val_binary_accuracy: 0.6667\n",
            "Epoch 11/50\n",
            "15/15 [==============================] - 0s 3ms/step - loss: 0.6458 - binary_accuracy: 0.6667 - val_loss: 0.6453 - val_binary_accuracy: 0.6667\n",
            "Epoch 12/50\n",
            "15/15 [==============================] - 0s 2ms/step - loss: 0.6442 - binary_accuracy: 0.6667 - val_loss: 0.6441 - val_binary_accuracy: 0.6667\n",
            "Epoch 13/50\n",
            "15/15 [==============================] - 0s 3ms/step - loss: 0.6444 - binary_accuracy: 0.6667 - val_loss: 0.6429 - val_binary_accuracy: 0.6667\n",
            "Epoch 14/50\n",
            "15/15 [==============================] - 0s 2ms/step - loss: 0.6430 - binary_accuracy: 0.6667 - val_loss: 0.6418 - val_binary_accuracy: 0.6667\n",
            "Epoch 15/50\n",
            "15/15 [==============================] - 0s 2ms/step - loss: 0.6427 - binary_accuracy: 0.6667 - val_loss: 0.6408 - val_binary_accuracy: 0.6667\n",
            "Epoch 16/50\n",
            "15/15 [==============================] - 0s 2ms/step - loss: 0.6409 - binary_accuracy: 0.6667 - val_loss: 0.6397 - val_binary_accuracy: 0.6667\n",
            "Epoch 17/50\n",
            "15/15 [==============================] - 0s 2ms/step - loss: 0.6397 - binary_accuracy: 0.6667 - val_loss: 0.6388 - val_binary_accuracy: 0.6667\n",
            "Epoch 18/50\n",
            "15/15 [==============================] - 0s 2ms/step - loss: 0.6388 - binary_accuracy: 0.6667 - val_loss: 0.6378 - val_binary_accuracy: 0.6667\n",
            "Epoch 19/50\n",
            "15/15 [==============================] - 0s 2ms/step - loss: 0.6382 - binary_accuracy: 0.6667 - val_loss: 0.6368 - val_binary_accuracy: 0.6667\n",
            "Epoch 20/50\n",
            "15/15 [==============================] - 0s 2ms/step - loss: 0.6369 - binary_accuracy: 0.6667 - val_loss: 0.6359 - val_binary_accuracy: 0.6667\n",
            "Epoch 21/50\n",
            "15/15 [==============================] - 0s 3ms/step - loss: 0.6367 - binary_accuracy: 0.6667 - val_loss: 0.6350 - val_binary_accuracy: 0.6667\n",
            "Epoch 22/50\n",
            "15/15 [==============================] - 0s 3ms/step - loss: 0.6350 - binary_accuracy: 0.6667 - val_loss: 0.6340 - val_binary_accuracy: 0.6667\n",
            "Epoch 23/50\n",
            "15/15 [==============================] - 0s 2ms/step - loss: 0.6357 - binary_accuracy: 0.6667 - val_loss: 0.6331 - val_binary_accuracy: 0.6667\n",
            "Epoch 24/50\n",
            "15/15 [==============================] - 0s 3ms/step - loss: 0.6342 - binary_accuracy: 0.6667 - val_loss: 0.6322 - val_binary_accuracy: 0.6667\n",
            "Epoch 25/50\n",
            "15/15 [==============================] - 0s 3ms/step - loss: 0.6328 - binary_accuracy: 0.6667 - val_loss: 0.6313 - val_binary_accuracy: 0.6667\n",
            "Epoch 26/50\n",
            "15/15 [==============================] - 0s 3ms/step - loss: 0.6325 - binary_accuracy: 0.6667 - val_loss: 0.6304 - val_binary_accuracy: 0.6667\n",
            "Epoch 27/50\n",
            "15/15 [==============================] - 0s 3ms/step - loss: 0.6312 - binary_accuracy: 0.6667 - val_loss: 0.6295 - val_binary_accuracy: 0.6667\n",
            "Epoch 28/50\n",
            "15/15 [==============================] - 0s 3ms/step - loss: 0.6310 - binary_accuracy: 0.6667 - val_loss: 0.6285 - val_binary_accuracy: 0.6667\n",
            "Epoch 29/50\n",
            "15/15 [==============================] - 0s 2ms/step - loss: 0.6295 - binary_accuracy: 0.6667 - val_loss: 0.6276 - val_binary_accuracy: 0.6667\n",
            "Epoch 30/50\n",
            "15/15 [==============================] - 0s 3ms/step - loss: 0.6292 - binary_accuracy: 0.6667 - val_loss: 0.6267 - val_binary_accuracy: 0.6667\n",
            "Epoch 31/50\n",
            "15/15 [==============================] - 0s 2ms/step - loss: 0.6282 - binary_accuracy: 0.6667 - val_loss: 0.6258 - val_binary_accuracy: 0.6667\n",
            "Epoch 32/50\n",
            "15/15 [==============================] - 0s 2ms/step - loss: 0.6276 - binary_accuracy: 0.6667 - val_loss: 0.6249 - val_binary_accuracy: 0.6667\n",
            "Epoch 33/50\n",
            "15/15 [==============================] - 0s 3ms/step - loss: 0.6263 - binary_accuracy: 0.6667 - val_loss: 0.6239 - val_binary_accuracy: 0.6667\n",
            "Epoch 34/50\n",
            "15/15 [==============================] - 0s 3ms/step - loss: 0.6255 - binary_accuracy: 0.6667 - val_loss: 0.6230 - val_binary_accuracy: 0.6667\n",
            "Epoch 35/50\n",
            "15/15 [==============================] - 0s 3ms/step - loss: 0.6255 - binary_accuracy: 0.6667 - val_loss: 0.6220 - val_binary_accuracy: 0.6667\n",
            "Epoch 36/50\n",
            "15/15 [==============================] - 0s 3ms/step - loss: 0.6239 - binary_accuracy: 0.6667 - val_loss: 0.6211 - val_binary_accuracy: 0.6667\n",
            "Epoch 37/50\n",
            "15/15 [==============================] - 0s 3ms/step - loss: 0.6229 - binary_accuracy: 0.6667 - val_loss: 0.6201 - val_binary_accuracy: 0.6667\n",
            "Epoch 38/50\n",
            "15/15 [==============================] - 0s 3ms/step - loss: 0.6216 - binary_accuracy: 0.6667 - val_loss: 0.6191 - val_binary_accuracy: 0.6667\n",
            "Epoch 39/50\n",
            "15/15 [==============================] - 0s 3ms/step - loss: 0.6214 - binary_accuracy: 0.6667 - val_loss: 0.6181 - val_binary_accuracy: 0.6667\n",
            "Epoch 40/50\n",
            "15/15 [==============================] - 0s 3ms/step - loss: 0.6208 - binary_accuracy: 0.6667 - val_loss: 0.6171 - val_binary_accuracy: 0.6667\n",
            "Epoch 41/50\n",
            "15/15 [==============================] - 0s 3ms/step - loss: 0.6195 - binary_accuracy: 0.6667 - val_loss: 0.6161 - val_binary_accuracy: 0.6667\n",
            "Epoch 42/50\n",
            "15/15 [==============================] - 0s 3ms/step - loss: 0.6185 - binary_accuracy: 0.6667 - val_loss: 0.6151 - val_binary_accuracy: 0.6667\n",
            "Epoch 43/50\n",
            "15/15 [==============================] - 0s 2ms/step - loss: 0.6179 - binary_accuracy: 0.6667 - val_loss: 0.6141 - val_binary_accuracy: 0.6667\n",
            "Epoch 44/50\n",
            "15/15 [==============================] - 0s 2ms/step - loss: 0.6167 - binary_accuracy: 0.6667 - val_loss: 0.6130 - val_binary_accuracy: 0.6667\n",
            "Epoch 45/50\n",
            "15/15 [==============================] - 0s 2ms/step - loss: 0.6157 - binary_accuracy: 0.6667 - val_loss: 0.6119 - val_binary_accuracy: 0.6667\n",
            "Epoch 46/50\n",
            "15/15 [==============================] - 0s 2ms/step - loss: 0.6151 - binary_accuracy: 0.6667 - val_loss: 0.6109 - val_binary_accuracy: 0.6667\n",
            "Epoch 47/50\n",
            "15/15 [==============================] - 0s 2ms/step - loss: 0.6136 - binary_accuracy: 0.6667 - val_loss: 0.6098 - val_binary_accuracy: 0.6667\n",
            "Epoch 48/50\n",
            "15/15 [==============================] - 0s 3ms/step - loss: 0.6124 - binary_accuracy: 0.6667 - val_loss: 0.6086 - val_binary_accuracy: 0.6667\n",
            "Epoch 49/50\n",
            "15/15 [==============================] - 0s 2ms/step - loss: 0.6118 - binary_accuracy: 0.6667 - val_loss: 0.6075 - val_binary_accuracy: 0.6667\n",
            "Epoch 50/50\n",
            "15/15 [==============================] - 0s 3ms/step - loss: 0.6104 - binary_accuracy: 0.6667 - val_loss: 0.6064 - val_binary_accuracy: 0.6667\n"
          ],
          "name": "stdout"
        },
        {
          "output_type": "execute_result",
          "data": {
            "text/plain": [
              "<tensorflow.python.keras.callbacks.History at 0x7f80f7fb1550>"
            ]
          },
          "metadata": {
            "tags": []
          },
          "execution_count": 7
        }
      ]
    },
    {
      "cell_type": "markdown",
      "metadata": {
        "id": "mNEVxasCoVB7"
      },
      "source": [
        "# Question 5\n",
        "Comparez les performances du modèle simple de régression logistique (celui avec un seul neurone) et ce réseau de neurones. Faite varier le nombre d'époch (20, 50, 100) et dressez un tableau montrant la meilleure *accuracy* pour chacun des modèles et expliquez le résultat. \n",
        "\n",
        "------------------------------------\n",
        "\n",
        "Un époch est le nombre de fois où on va passer les données d'entrée.\n",
        "Pour le modèle simple avec 1 neurone:\n",
        "-----------------------------------\n",
        "                   | 20 epoch | 50 epoch | 100 epoch|\n",
        "    |Accuracy min  |  0.8800  | 0.6933   |  0.3067  |\n",
        "    |Accuracy max  |  0.9867  | 0.9867   |  1.0000  |\n",
        "    |Accuracy final|  0.9867  | 0.9733   |  0.9733  |\n",
        "\n",
        "Plus on a un époch élevé, plus on a une disparité dans les résultats entre le minimum et maximum. Le résultat final n'est cependant pas forcement meilleur. Le réseau de neurone explore simplement un nombre plus large de possibilités. Il continue a apprendre. Il peut y avoir un surapprentissage, expliquant pourquoi le final n'est pas toujours le max."
      ]
    },
    {
      "cell_type": "markdown",
      "metadata": {
        "id": "2Dw7gvmnqh20"
      },
      "source": [
        "# Utilisation d'un softmax pour une classification multiple\n",
        "La base de donnée `iris` représente 3 classes et pour l'instant, nous n'avons fait que classer les exemples comme étant dans une seule classe ou pas. Il est possible de créer un réseau avec 3 neurones de sorties qui vont calculer les 3 probabilités d'appartenance à chacune des classes. Il faut remettre en forme les labels des données dans un vecteur de 3 bits (un bit à 1 pour la classe à laquelle appartient l'entrée). Ceci correspond à ce que l'on appelle le \"One Hot Endoding\". Une classe est dédiée à cela dans sklearn. "
      ]
    },
    {
      "cell_type": "code",
      "metadata": {
        "colab": {
          "base_uri": "https://localhost:8080/"
        },
        "id": "f8i_xCxMFWyM",
        "outputId": "0a6d6eed-bfe4-4dbe-d7a2-24a79b471be6"
      },
      "source": [
        "import numpy as np\n",
        "import pandas as pd\n",
        "from sklearn.datasets import load_iris\n",
        "from sklearn.model_selection import train_test_split\n",
        "from sklearn.preprocessing import OneHotEncoder, StandardScaler\n",
        "\n",
        "iris = load_iris()\n",
        "X = iris['data']\n",
        "y = iris['target']\n",
        "names = iris['target_names']\n",
        "feature_names = iris['feature_names']\n",
        "\n",
        "# One hot encoding\n",
        "enc = OneHotEncoder()\n",
        "Y = enc.fit_transform(y[:, np.newaxis]).toarray()\n",
        "\n",
        "\n",
        "n_features = X.shape[1]\n",
        "n_classes = Y.shape[1]\n",
        "print(\"Nombre de features : \", n_features)\n",
        "print(\"Nombre de classes \", n_classes)\n",
        "print(\" Exemple d'encodage de la donnée numéro 5 et 12 : \")\n",
        "print(\"features : \", X[5], \" sortie : \", Y[5])\n",
        "print(\"features : \", X[12], \" sortie : \", Y[12])\n",
        "\n"
      ],
      "execution_count": 9,
      "outputs": [
        {
          "output_type": "stream",
          "text": [
            "Nombre de features :  4\n",
            "Nombre de classes  3\n",
            " Exemple d'encodage de la donnée numéro 5 et 12 : \n",
            "features :  [5.4 3.9 1.7 0.4]  sortie :  [1. 0. 0.]\n",
            "features :  [4.8 3.  1.4 0.1]  sortie :  [1. 0. 0.]\n"
          ],
          "name": "stdout"
        }
      ]
    },
    {
      "cell_type": "markdown",
      "metadata": {
        "id": "Gz4Pgp7QHFrj"
      },
      "source": [
        "Pour améliorer les convergences des algorithmes, il est conseillé de 'normaliser' les données. Pour cela les valeurs sont 're-calculées' de sorte que leur ordre soit respecté tout en rendant leur distribution normale (centrée sur 0 avec une variance de 1), c'est le rôle des `Scaler`. "
      ]
    },
    {
      "cell_type": "code",
      "metadata": {
        "colab": {
          "base_uri": "https://localhost:8080/"
        },
        "id": "sqKfdEF5HE4D",
        "outputId": "bc2789a0-157c-4f7d-ba5e-bd8b00c5df8b"
      },
      "source": [
        "\n",
        "# Scale data to have mean 0 and variance 1 \n",
        "# which is importance for convergence of the neural network\n",
        "scaler = StandardScaler()\n",
        "X_scaled = scaler.fit_transform(X)\n",
        "\n",
        "print(\" Exemple d'encodage de la donnée numéro 5 et 12 : \")\n",
        "print(\"features : \", X_scaled[5], \" sortie : \", Y[5])\n",
        "print(\"features : \", X_scaled[12], \" sortie : \", Y[12])\n",
        "\n",
        "\n",
        "\n"
      ],
      "execution_count": 10,
      "outputs": [
        {
          "output_type": "stream",
          "text": [
            " Exemple d'encodage de la donnée numéro 5 et 12 : \n",
            "features :  [-0.53717756  1.93979142 -1.16971425 -1.05217993]  sortie :  [1. 0. 0.]\n",
            "features :  [-1.26418478 -0.13197948 -1.34022653 -1.44707648]  sortie :  [1. 0. 0.]\n"
          ],
          "name": "stdout"
        }
      ]
    },
    {
      "cell_type": "markdown",
      "metadata": {
        "id": "K5aX5FWnINyd"
      },
      "source": [
        "On redéfinie les données d'entrainement avec ces valeurs normalisées."
      ]
    },
    {
      "cell_type": "code",
      "metadata": {
        "id": "laAastQHH4IL"
      },
      "source": [
        "\n",
        "\n",
        "# Split the data set into training and testing\n",
        "X_train, X_test, Y_train, Y_test = train_test_split(\n",
        "    X_scaled, Y, test_size=0.5, random_state=2)"
      ],
      "execution_count": 12,
      "outputs": []
    },
    {
      "cell_type": "markdown",
      "metadata": {
        "id": "9ptvekiLJvPb"
      },
      "source": [
        "Et on créé un réseau dont les 3 sorties sont désormais passées au travers d'un softmax."
      ]
    },
    {
      "cell_type": "code",
      "metadata": {
        "id": "KSMv86ykbIkC"
      },
      "source": [
        "\n",
        "model = keras.Sequential()\n",
        "model.add(keras.layers.Dense(10, input_shape=(n_features,), activation='sigmoid'))\n",
        "model.add(keras.layers.Dense(3, activation='softmax'))\n",
        "model.compile(loss='categorical_crossentropy', optimizer='adam', metrics=['accuracy'])\n"
      ],
      "execution_count": 13,
      "outputs": []
    },
    {
      "cell_type": "markdown",
      "metadata": {
        "id": "ekbVmJ4BL5vy"
      },
      "source": [
        "Et on lance l'apprentissage :"
      ]
    },
    {
      "cell_type": "code",
      "metadata": {
        "colab": {
          "base_uri": "https://localhost:8080/"
        },
        "id": "xinPIHFhL8Jf",
        "outputId": "164f5e96-f3d4-453d-dcdf-fa123d457a0e"
      },
      "source": [
        "model.fit(X_train, Y_train,\n",
        "                                 batch_size=5,\n",
        "                                 epochs=50,\n",
        "                                 verbose=1,\n",
        "                                 validation_data=(X_test, Y_test)\n",
        "                        )"
      ],
      "execution_count": 14,
      "outputs": [
        {
          "output_type": "stream",
          "text": [
            "Epoch 1/50\n",
            "15/15 [==============================] - 0s 9ms/step - loss: 1.1727 - accuracy: 0.5200 - val_loss: 1.1968 - val_accuracy: 0.5333\n",
            "Epoch 2/50\n",
            "15/15 [==============================] - 0s 2ms/step - loss: 1.1462 - accuracy: 0.5067 - val_loss: 1.1632 - val_accuracy: 0.5067\n",
            "Epoch 3/50\n",
            "15/15 [==============================] - 0s 2ms/step - loss: 1.1198 - accuracy: 0.5333 - val_loss: 1.1333 - val_accuracy: 0.4933\n",
            "Epoch 4/50\n",
            "15/15 [==============================] - 0s 2ms/step - loss: 1.0922 - accuracy: 0.5067 - val_loss: 1.1083 - val_accuracy: 0.4933\n",
            "Epoch 5/50\n",
            "15/15 [==============================] - 0s 3ms/step - loss: 1.0703 - accuracy: 0.5067 - val_loss: 1.0797 - val_accuracy: 0.4933\n",
            "Epoch 6/50\n",
            "15/15 [==============================] - 0s 3ms/step - loss: 1.0445 - accuracy: 0.5200 - val_loss: 1.0560 - val_accuracy: 0.4933\n",
            "Epoch 7/50\n",
            "15/15 [==============================] - 0s 3ms/step - loss: 1.0229 - accuracy: 0.5200 - val_loss: 1.0290 - val_accuracy: 0.4933\n",
            "Epoch 8/50\n",
            "15/15 [==============================] - 0s 2ms/step - loss: 1.0013 - accuracy: 0.5333 - val_loss: 1.0025 - val_accuracy: 0.4800\n",
            "Epoch 9/50\n",
            "15/15 [==============================] - 0s 3ms/step - loss: 0.9775 - accuracy: 0.5333 - val_loss: 0.9805 - val_accuracy: 0.4800\n",
            "Epoch 10/50\n",
            "15/15 [==============================] - 0s 2ms/step - loss: 0.9566 - accuracy: 0.5333 - val_loss: 0.9585 - val_accuracy: 0.4800\n",
            "Epoch 11/50\n",
            "15/15 [==============================] - 0s 2ms/step - loss: 0.9382 - accuracy: 0.5333 - val_loss: 0.9341 - val_accuracy: 0.4800\n",
            "Epoch 12/50\n",
            "15/15 [==============================] - 0s 2ms/step - loss: 0.9164 - accuracy: 0.5333 - val_loss: 0.9110 - val_accuracy: 0.6133\n",
            "Epoch 13/50\n",
            "15/15 [==============================] - 0s 2ms/step - loss: 0.8962 - accuracy: 0.7067 - val_loss: 0.8916 - val_accuracy: 0.6933\n",
            "Epoch 14/50\n",
            "15/15 [==============================] - 0s 3ms/step - loss: 0.8767 - accuracy: 0.7733 - val_loss: 0.8716 - val_accuracy: 0.8133\n",
            "Epoch 15/50\n",
            "15/15 [==============================] - 0s 3ms/step - loss: 0.8591 - accuracy: 0.8267 - val_loss: 0.8512 - val_accuracy: 0.8533\n",
            "Epoch 16/50\n",
            "15/15 [==============================] - 0s 3ms/step - loss: 0.8407 - accuracy: 0.8400 - val_loss: 0.8318 - val_accuracy: 0.8533\n",
            "Epoch 17/50\n",
            "15/15 [==============================] - 0s 2ms/step - loss: 0.8243 - accuracy: 0.8267 - val_loss: 0.8142 - val_accuracy: 0.8533\n",
            "Epoch 18/50\n",
            "15/15 [==============================] - 0s 2ms/step - loss: 0.8059 - accuracy: 0.8400 - val_loss: 0.7962 - val_accuracy: 0.8400\n",
            "Epoch 19/50\n",
            "15/15 [==============================] - 0s 2ms/step - loss: 0.7894 - accuracy: 0.8400 - val_loss: 0.7792 - val_accuracy: 0.8533\n",
            "Epoch 20/50\n",
            "15/15 [==============================] - 0s 2ms/step - loss: 0.7741 - accuracy: 0.8400 - val_loss: 0.7625 - val_accuracy: 0.8400\n",
            "Epoch 21/50\n",
            "15/15 [==============================] - 0s 3ms/step - loss: 0.7585 - accuracy: 0.8400 - val_loss: 0.7475 - val_accuracy: 0.8533\n",
            "Epoch 22/50\n",
            "15/15 [==============================] - 0s 2ms/step - loss: 0.7448 - accuracy: 0.8400 - val_loss: 0.7308 - val_accuracy: 0.8667\n",
            "Epoch 23/50\n",
            "15/15 [==============================] - 0s 3ms/step - loss: 0.7296 - accuracy: 0.8400 - val_loss: 0.7174 - val_accuracy: 0.8667\n",
            "Epoch 24/50\n",
            "15/15 [==============================] - 0s 2ms/step - loss: 0.7160 - accuracy: 0.8400 - val_loss: 0.7030 - val_accuracy: 0.8667\n",
            "Epoch 25/50\n",
            "15/15 [==============================] - 0s 2ms/step - loss: 0.7039 - accuracy: 0.8400 - val_loss: 0.6888 - val_accuracy: 0.8800\n",
            "Epoch 26/50\n",
            "15/15 [==============================] - 0s 2ms/step - loss: 0.6901 - accuracy: 0.8400 - val_loss: 0.6757 - val_accuracy: 0.8800\n",
            "Epoch 27/50\n",
            "15/15 [==============================] - 0s 2ms/step - loss: 0.6790 - accuracy: 0.8400 - val_loss: 0.6639 - val_accuracy: 0.8933\n",
            "Epoch 28/50\n",
            "15/15 [==============================] - 0s 3ms/step - loss: 0.6671 - accuracy: 0.8400 - val_loss: 0.6511 - val_accuracy: 0.8667\n",
            "Epoch 29/50\n",
            "15/15 [==============================] - 0s 3ms/step - loss: 0.6554 - accuracy: 0.8400 - val_loss: 0.6404 - val_accuracy: 0.8800\n",
            "Epoch 30/50\n",
            "15/15 [==============================] - 0s 3ms/step - loss: 0.6447 - accuracy: 0.8400 - val_loss: 0.6289 - val_accuracy: 0.8800\n",
            "Epoch 31/50\n",
            "15/15 [==============================] - 0s 2ms/step - loss: 0.6347 - accuracy: 0.8400 - val_loss: 0.6188 - val_accuracy: 0.8933\n",
            "Epoch 32/50\n",
            "15/15 [==============================] - 0s 3ms/step - loss: 0.6243 - accuracy: 0.8400 - val_loss: 0.6078 - val_accuracy: 0.8800\n",
            "Epoch 33/50\n",
            "15/15 [==============================] - 0s 2ms/step - loss: 0.6147 - accuracy: 0.8400 - val_loss: 0.5982 - val_accuracy: 0.8800\n",
            "Epoch 34/50\n",
            "15/15 [==============================] - 0s 2ms/step - loss: 0.6060 - accuracy: 0.8400 - val_loss: 0.5881 - val_accuracy: 0.8800\n",
            "Epoch 35/50\n",
            "15/15 [==============================] - 0s 3ms/step - loss: 0.5972 - accuracy: 0.8533 - val_loss: 0.5798 - val_accuracy: 0.8800\n",
            "Epoch 36/50\n",
            "15/15 [==============================] - 0s 2ms/step - loss: 0.5886 - accuracy: 0.8400 - val_loss: 0.5714 - val_accuracy: 0.8933\n",
            "Epoch 37/50\n",
            "15/15 [==============================] - 0s 2ms/step - loss: 0.5801 - accuracy: 0.8400 - val_loss: 0.5631 - val_accuracy: 0.8933\n",
            "Epoch 38/50\n",
            "15/15 [==============================] - 0s 3ms/step - loss: 0.5721 - accuracy: 0.8400 - val_loss: 0.5551 - val_accuracy: 0.8933\n",
            "Epoch 39/50\n",
            "15/15 [==============================] - 0s 2ms/step - loss: 0.5655 - accuracy: 0.8533 - val_loss: 0.5458 - val_accuracy: 0.8933\n",
            "Epoch 40/50\n",
            "15/15 [==============================] - 0s 2ms/step - loss: 0.5592 - accuracy: 0.8533 - val_loss: 0.5404 - val_accuracy: 0.8933\n",
            "Epoch 41/50\n",
            "15/15 [==============================] - 0s 2ms/step - loss: 0.5511 - accuracy: 0.8533 - val_loss: 0.5317 - val_accuracy: 0.8933\n",
            "Epoch 42/50\n",
            "15/15 [==============================] - 0s 3ms/step - loss: 0.5435 - accuracy: 0.8533 - val_loss: 0.5255 - val_accuracy: 0.8933\n",
            "Epoch 43/50\n",
            "15/15 [==============================] - 0s 3ms/step - loss: 0.5366 - accuracy: 0.8533 - val_loss: 0.5182 - val_accuracy: 0.8933\n",
            "Epoch 44/50\n",
            "15/15 [==============================] - 0s 3ms/step - loss: 0.5303 - accuracy: 0.8667 - val_loss: 0.5112 - val_accuracy: 0.9067\n",
            "Epoch 45/50\n",
            "15/15 [==============================] - 0s 2ms/step - loss: 0.5237 - accuracy: 0.8667 - val_loss: 0.5053 - val_accuracy: 0.8933\n",
            "Epoch 46/50\n",
            "15/15 [==============================] - 0s 3ms/step - loss: 0.5177 - accuracy: 0.8667 - val_loss: 0.4994 - val_accuracy: 0.8933\n",
            "Epoch 47/50\n",
            "15/15 [==============================] - 0s 3ms/step - loss: 0.5135 - accuracy: 0.8400 - val_loss: 0.4949 - val_accuracy: 0.8933\n",
            "Epoch 48/50\n",
            "15/15 [==============================] - 0s 2ms/step - loss: 0.5067 - accuracy: 0.8667 - val_loss: 0.4877 - val_accuracy: 0.8933\n",
            "Epoch 49/50\n",
            "15/15 [==============================] - 0s 3ms/step - loss: 0.5007 - accuracy: 0.8667 - val_loss: 0.4824 - val_accuracy: 0.8933\n",
            "Epoch 50/50\n",
            "15/15 [==============================] - 0s 3ms/step - loss: 0.4954 - accuracy: 0.8667 - val_loss: 0.4766 - val_accuracy: 0.9067\n"
          ],
          "name": "stdout"
        },
        {
          "output_type": "execute_result",
          "data": {
            "text/plain": [
              "<tensorflow.python.keras.callbacks.History at 0x7f80f5e49240>"
            ]
          },
          "metadata": {
            "tags": []
          },
          "execution_count": 14
        }
      ]
    },
    {
      "cell_type": "markdown",
      "metadata": {
        "id": "NmiCNOdiOADb"
      },
      "source": [
        "Le code suivant a simplement pour but de vous montrer comment voir la prédiction du modèle pour des valeurs d'entrées particulières."
      ]
    },
    {
      "cell_type": "code",
      "metadata": {
        "colab": {
          "base_uri": "https://localhost:8080/"
        },
        "id": "ZBfnGntpMUn7",
        "outputId": "519129f7-8e46-457a-a718-940a56ea0e88"
      },
      "source": [
        "print(\"sortie prédite par le modèle pour une entrée particulière : \")\n",
        "print(model.predict([[-0.53717756,  1.93979142, -1.16971425, -1.05217993]]))\n",
        "print(\"Elle appartient donc à la classe : \")\n",
        "print(np.argmax(model.predict([[-0.53717756,  1.93979142, -1.16971425, -1.05217993]]), axis=-1))\n",
        "\n",
        "print(\"sortie prédite par le modèle pour une autre entrée particulière : \")\n",
        "print(model.predict([[1.2,  0.82, 1, 0.2]]))\n",
        "print(\"Elle appartient donc à la classe : \")\n",
        "print(np.argmax(model.predict([[1,  1, 1, 1]]), axis=-1))"
      ],
      "execution_count": null,
      "outputs": [
        {
          "output_type": "stream",
          "text": [
            "sortie prédite par le modèle pour une entrée particulière : \n",
            "[[0.74760944 0.13895483 0.11343574]]\n",
            "Elle appartient donc à la classe : \n",
            "[0]\n",
            "sortie prédite par le modèle pour une autre entrée particulière : \n",
            "[[0.12136138 0.31047186 0.5681668 ]]\n",
            "Elle appartient donc à la classe : \n",
            "[2]\n"
          ],
          "name": "stdout"
        }
      ]
    },
    {
      "cell_type": "markdown",
      "metadata": {
        "id": "uST1miSMOVQV"
      },
      "source": [
        "## Question 6 \n",
        "Comme expliqué plus haut, il existe plusieurs algorithmes de gradiant. Ici nous sommes partie sur un ADAM avec une couche dense composée de neurones avec une fonction de transfert sigmoïde. Pouvez vous dresser un tableau comparatif des résultats obtenus en utilisant un un algorithme de descente de gradient stochastique ('sgd') et des fonctions de transfert ('relu') et en conclure sur l'interêt de chacun de ces choix pour la classification de la base `iris` \n",
        "\n",
        "-----------------------\n",
        "\n",
        "Voir si on a de meilleurs ou moins bons resultats si on change l'algo du code de calcul de la classif et de transfert des neurones\n",
        "\n",
        "Essai 1:\n",
        "\n",
        "               | Sigmoid | relu |\n",
        "        | ADAM |  0.9200 |0.8933|\n",
        "        | sgd  |  0.8400 |0.9333|\n",
        "\n",
        "Essai 2: \n",
        "\n",
        "               | Sigmoid | relu |\n",
        "        | ADAM |  0.8800 |0.9067|\n",
        "        | sgd  |  0.8933 |0.8667|\n",
        "\n",
        "On voit qu'il n'y a pas une disparité assez importante pour justifier l'utilisation d'une combinaison plutôt qu'une autre."
      ]
    },
    {
      "cell_type": "code",
      "metadata": {
        "id": "RIajXhYKOUQU",
        "colab": {
          "base_uri": "https://localhost:8080/"
        },
        "outputId": "1101e32b-ff64-4e1f-f04c-025a207f176c"
      },
      "source": [
        "#Combiner relu/sigmoid pour l'activation, ou adam/sgd\n",
        "print(\"Sigmoid/ADAM\")\n",
        "model = keras.Sequential()\n",
        "model.add(keras.layers.Dense(10, input_shape=(n_features,), activation='sigmoid'))\n",
        "model.add(keras.layers.Dense(3, activation='softmax'))\n",
        "model.compile(loss='categorical_crossentropy', optimizer='adam', metrics=['accuracy'])\n",
        "\n",
        "model.fit(X_train, Y_train,\n",
        "                                 batch_size=5,\n",
        "                                 epochs=50,\n",
        "                                 verbose=1,\n",
        "                                 validation_data=(X_test, Y_test)\n",
        "                        )\n",
        "\n",
        "print(\"relu/ADAM\")\n",
        "model = keras.Sequential()\n",
        "model.add(keras.layers.Dense(10, input_shape=(n_features,), activation='relu'))\n",
        "model.add(keras.layers.Dense(3, activation='softmax'))\n",
        "model.compile(loss='categorical_crossentropy', optimizer='adam', metrics=['accuracy'])\n",
        "\n",
        "model.fit(X_train, Y_train,\n",
        "                                 batch_size=5,\n",
        "                                 epochs=50,\n",
        "                                 verbose=1,\n",
        "                                 validation_data=(X_test, Y_test)\n",
        "                        )\n",
        "\n",
        "print(\"Sigmoid/sgd\")\n",
        "model = keras.Sequential()\n",
        "model.add(keras.layers.Dense(10, input_shape=(n_features,), activation='sigmoid'))\n",
        "model.add(keras.layers.Dense(3, activation='softmax'))\n",
        "model.compile(loss='categorical_crossentropy', optimizer='sgd', metrics=['accuracy'])\n",
        "\n",
        "model.fit(X_train, Y_train,\n",
        "                                 batch_size=5,\n",
        "                                 epochs=50,\n",
        "                                 verbose=1,\n",
        "                                 validation_data=(X_test, Y_test)\n",
        "                        )\n",
        "\n",
        "print(\"relu/sgd\")\n",
        "model = keras.Sequential()\n",
        "model.add(keras.layers.Dense(10, input_shape=(n_features,), activation='relu'))\n",
        "model.add(keras.layers.Dense(3, activation='softmax'))\n",
        "model.compile(loss='categorical_crossentropy', optimizer='sgd', metrics=['accuracy'])\n",
        "\n",
        "model.fit(X_train, Y_train,\n",
        "                                 batch_size=5,\n",
        "                                 epochs=50,\n",
        "                                 verbose=1,\n",
        "                                 validation_data=(X_test, Y_test)\n",
        "                        )"
      ],
      "execution_count": 15,
      "outputs": [
        {
          "output_type": "stream",
          "text": [
            "Sigmoid/ADAM\n",
            "Epoch 1/50\n",
            "15/15 [==============================] - 0s 9ms/step - loss: 1.1242 - accuracy: 0.6000 - val_loss: 1.1004 - val_accuracy: 0.6400\n",
            "Epoch 2/50\n",
            "15/15 [==============================] - 0s 3ms/step - loss: 1.0903 - accuracy: 0.6533 - val_loss: 1.0697 - val_accuracy: 0.6533\n",
            "Epoch 3/50\n",
            "15/15 [==============================] - 0s 3ms/step - loss: 1.0586 - accuracy: 0.6533 - val_loss: 1.0426 - val_accuracy: 0.6667\n",
            "Epoch 4/50\n",
            "15/15 [==============================] - 0s 3ms/step - loss: 1.0320 - accuracy: 0.6667 - val_loss: 1.0141 - val_accuracy: 0.6667\n",
            "Epoch 5/50\n",
            "15/15 [==============================] - 0s 3ms/step - loss: 1.0043 - accuracy: 0.6667 - val_loss: 0.9907 - val_accuracy: 0.6667\n",
            "Epoch 6/50\n",
            "15/15 [==============================] - 0s 2ms/step - loss: 0.9802 - accuracy: 0.6667 - val_loss: 0.9675 - val_accuracy: 0.6667\n",
            "Epoch 7/50\n",
            "15/15 [==============================] - 0s 2ms/step - loss: 0.9569 - accuracy: 0.6667 - val_loss: 0.9457 - val_accuracy: 0.6667\n",
            "Epoch 8/50\n",
            "15/15 [==============================] - 0s 2ms/step - loss: 0.9353 - accuracy: 0.6667 - val_loss: 0.9251 - val_accuracy: 0.6667\n",
            "Epoch 9/50\n",
            "15/15 [==============================] - 0s 3ms/step - loss: 0.9160 - accuracy: 0.6667 - val_loss: 0.9030 - val_accuracy: 0.6667\n",
            "Epoch 10/50\n",
            "15/15 [==============================] - 0s 2ms/step - loss: 0.8956 - accuracy: 0.6667 - val_loss: 0.8845 - val_accuracy: 0.6667\n",
            "Epoch 11/50\n",
            "15/15 [==============================] - 0s 2ms/step - loss: 0.8766 - accuracy: 0.6667 - val_loss: 0.8663 - val_accuracy: 0.6667\n",
            "Epoch 12/50\n",
            "15/15 [==============================] - 0s 3ms/step - loss: 0.8596 - accuracy: 0.6800 - val_loss: 0.8466 - val_accuracy: 0.6800\n",
            "Epoch 13/50\n",
            "15/15 [==============================] - 0s 2ms/step - loss: 0.8416 - accuracy: 0.6800 - val_loss: 0.8290 - val_accuracy: 0.7200\n",
            "Epoch 14/50\n",
            "15/15 [==============================] - 0s 3ms/step - loss: 0.8243 - accuracy: 0.6933 - val_loss: 0.8129 - val_accuracy: 0.7200\n",
            "Epoch 15/50\n",
            "15/15 [==============================] - 0s 2ms/step - loss: 0.8083 - accuracy: 0.6933 - val_loss: 0.7966 - val_accuracy: 0.7600\n",
            "Epoch 16/50\n",
            "15/15 [==============================] - 0s 2ms/step - loss: 0.7932 - accuracy: 0.7067 - val_loss: 0.7804 - val_accuracy: 0.7867\n",
            "Epoch 17/50\n",
            "15/15 [==============================] - 0s 2ms/step - loss: 0.7777 - accuracy: 0.7200 - val_loss: 0.7663 - val_accuracy: 0.8000\n",
            "Epoch 18/50\n",
            "15/15 [==============================] - 0s 2ms/step - loss: 0.7631 - accuracy: 0.7333 - val_loss: 0.7510 - val_accuracy: 0.8000\n",
            "Epoch 19/50\n",
            "15/15 [==============================] - 0s 3ms/step - loss: 0.7493 - accuracy: 0.7733 - val_loss: 0.7362 - val_accuracy: 0.8133\n",
            "Epoch 20/50\n",
            "15/15 [==============================] - 0s 3ms/step - loss: 0.7361 - accuracy: 0.8133 - val_loss: 0.7220 - val_accuracy: 0.8267\n",
            "Epoch 21/50\n",
            "15/15 [==============================] - 0s 3ms/step - loss: 0.7225 - accuracy: 0.8133 - val_loss: 0.7089 - val_accuracy: 0.8400\n",
            "Epoch 22/50\n",
            "15/15 [==============================] - 0s 3ms/step - loss: 0.7102 - accuracy: 0.8267 - val_loss: 0.6953 - val_accuracy: 0.8400\n",
            "Epoch 23/50\n",
            "15/15 [==============================] - 0s 3ms/step - loss: 0.6979 - accuracy: 0.8267 - val_loss: 0.6835 - val_accuracy: 0.8533\n",
            "Epoch 24/50\n",
            "15/15 [==============================] - 0s 3ms/step - loss: 0.6866 - accuracy: 0.8400 - val_loss: 0.6719 - val_accuracy: 0.8533\n",
            "Epoch 25/50\n",
            "15/15 [==============================] - 0s 3ms/step - loss: 0.6752 - accuracy: 0.8667 - val_loss: 0.6608 - val_accuracy: 0.8533\n",
            "Epoch 26/50\n",
            "15/15 [==============================] - 0s 3ms/step - loss: 0.6650 - accuracy: 0.8400 - val_loss: 0.6485 - val_accuracy: 0.8533\n",
            "Epoch 27/50\n",
            "15/15 [==============================] - 0s 2ms/step - loss: 0.6536 - accuracy: 0.8667 - val_loss: 0.6378 - val_accuracy: 0.8667\n",
            "Epoch 28/50\n",
            "15/15 [==============================] - 0s 2ms/step - loss: 0.6437 - accuracy: 0.8667 - val_loss: 0.6278 - val_accuracy: 0.8667\n",
            "Epoch 29/50\n",
            "15/15 [==============================] - 0s 2ms/step - loss: 0.6342 - accuracy: 0.8667 - val_loss: 0.6176 - val_accuracy: 0.8533\n",
            "Epoch 30/50\n",
            "15/15 [==============================] - 0s 3ms/step - loss: 0.6248 - accuracy: 0.8667 - val_loss: 0.6084 - val_accuracy: 0.8533\n",
            "Epoch 31/50\n",
            "15/15 [==============================] - 0s 2ms/step - loss: 0.6157 - accuracy: 0.8800 - val_loss: 0.5993 - val_accuracy: 0.8533\n",
            "Epoch 32/50\n",
            "15/15 [==============================] - 0s 3ms/step - loss: 0.6070 - accuracy: 0.8800 - val_loss: 0.5903 - val_accuracy: 0.8667\n",
            "Epoch 33/50\n",
            "15/15 [==============================] - 0s 3ms/step - loss: 0.5990 - accuracy: 0.8800 - val_loss: 0.5811 - val_accuracy: 0.8667\n",
            "Epoch 34/50\n",
            "15/15 [==============================] - 0s 2ms/step - loss: 0.5909 - accuracy: 0.9067 - val_loss: 0.5734 - val_accuracy: 0.8667\n",
            "Epoch 35/50\n",
            "15/15 [==============================] - 0s 2ms/step - loss: 0.5830 - accuracy: 0.8933 - val_loss: 0.5656 - val_accuracy: 0.8667\n",
            "Epoch 36/50\n",
            "15/15 [==============================] - 0s 2ms/step - loss: 0.5756 - accuracy: 0.9067 - val_loss: 0.5572 - val_accuracy: 0.8800\n",
            "Epoch 37/50\n",
            "15/15 [==============================] - 0s 2ms/step - loss: 0.5684 - accuracy: 0.8800 - val_loss: 0.5496 - val_accuracy: 0.8800\n",
            "Epoch 38/50\n",
            "15/15 [==============================] - 0s 3ms/step - loss: 0.5611 - accuracy: 0.8800 - val_loss: 0.5425 - val_accuracy: 0.8800\n",
            "Epoch 39/50\n",
            "15/15 [==============================] - 0s 2ms/step - loss: 0.5546 - accuracy: 0.8800 - val_loss: 0.5358 - val_accuracy: 0.8800\n",
            "Epoch 40/50\n",
            "15/15 [==============================] - 0s 2ms/step - loss: 0.5479 - accuracy: 0.8800 - val_loss: 0.5295 - val_accuracy: 0.8800\n",
            "Epoch 41/50\n",
            "15/15 [==============================] - 0s 2ms/step - loss: 0.5418 - accuracy: 0.8800 - val_loss: 0.5227 - val_accuracy: 0.8800\n",
            "Epoch 42/50\n",
            "15/15 [==============================] - 0s 2ms/step - loss: 0.5353 - accuracy: 0.8800 - val_loss: 0.5165 - val_accuracy: 0.8800\n",
            "Epoch 43/50\n",
            "15/15 [==============================] - 0s 3ms/step - loss: 0.5294 - accuracy: 0.8800 - val_loss: 0.5105 - val_accuracy: 0.8800\n",
            "Epoch 44/50\n",
            "15/15 [==============================] - 0s 2ms/step - loss: 0.5239 - accuracy: 0.8800 - val_loss: 0.5045 - val_accuracy: 0.8800\n",
            "Epoch 45/50\n",
            "15/15 [==============================] - 0s 3ms/step - loss: 0.5184 - accuracy: 0.8800 - val_loss: 0.4991 - val_accuracy: 0.8800\n",
            "Epoch 46/50\n",
            "15/15 [==============================] - 0s 3ms/step - loss: 0.5127 - accuracy: 0.8800 - val_loss: 0.4936 - val_accuracy: 0.8800\n",
            "Epoch 47/50\n",
            "15/15 [==============================] - 0s 2ms/step - loss: 0.5076 - accuracy: 0.8800 - val_loss: 0.4885 - val_accuracy: 0.8800\n",
            "Epoch 48/50\n",
            "15/15 [==============================] - 0s 2ms/step - loss: 0.5023 - accuracy: 0.8800 - val_loss: 0.4832 - val_accuracy: 0.8800\n",
            "Epoch 49/50\n",
            "15/15 [==============================] - 0s 3ms/step - loss: 0.4974 - accuracy: 0.8667 - val_loss: 0.4776 - val_accuracy: 0.9067\n",
            "Epoch 50/50\n",
            "15/15 [==============================] - 0s 3ms/step - loss: 0.4929 - accuracy: 0.8667 - val_loss: 0.4733 - val_accuracy: 0.8800\n",
            "relu/ADAM\n",
            "Epoch 1/50\n",
            "15/15 [==============================] - 0s 9ms/step - loss: 1.1061 - accuracy: 0.3467 - val_loss: 1.0836 - val_accuracy: 0.2933\n",
            "Epoch 2/50\n",
            "15/15 [==============================] - 0s 2ms/step - loss: 1.0236 - accuracy: 0.3467 - val_loss: 1.0065 - val_accuracy: 0.3333\n",
            "Epoch 3/50\n",
            "15/15 [==============================] - 0s 3ms/step - loss: 0.9553 - accuracy: 0.4267 - val_loss: 0.9357 - val_accuracy: 0.5200\n",
            "Epoch 4/50\n",
            "15/15 [==============================] - 0s 3ms/step - loss: 0.8946 - accuracy: 0.6400 - val_loss: 0.8720 - val_accuracy: 0.7333\n",
            "Epoch 5/50\n",
            "15/15 [==============================] - 0s 2ms/step - loss: 0.8368 - accuracy: 0.8133 - val_loss: 0.8179 - val_accuracy: 0.8267\n",
            "Epoch 6/50\n",
            "15/15 [==============================] - 0s 2ms/step - loss: 0.7883 - accuracy: 0.8667 - val_loss: 0.7689 - val_accuracy: 0.8533\n",
            "Epoch 7/50\n",
            "15/15 [==============================] - 0s 2ms/step - loss: 0.7453 - accuracy: 0.8667 - val_loss: 0.7254 - val_accuracy: 0.8800\n",
            "Epoch 8/50\n",
            "15/15 [==============================] - 0s 3ms/step - loss: 0.7090 - accuracy: 0.8400 - val_loss: 0.6839 - val_accuracy: 0.8667\n",
            "Epoch 9/50\n",
            "15/15 [==============================] - 0s 2ms/step - loss: 0.6729 - accuracy: 0.8133 - val_loss: 0.6505 - val_accuracy: 0.8667\n",
            "Epoch 10/50\n",
            "15/15 [==============================] - 0s 3ms/step - loss: 0.6435 - accuracy: 0.8000 - val_loss: 0.6203 - val_accuracy: 0.8667\n",
            "Epoch 11/50\n",
            "15/15 [==============================] - 0s 3ms/step - loss: 0.6176 - accuracy: 0.7733 - val_loss: 0.5938 - val_accuracy: 0.8667\n",
            "Epoch 12/50\n",
            "15/15 [==============================] - 0s 3ms/step - loss: 0.5950 - accuracy: 0.7733 - val_loss: 0.5689 - val_accuracy: 0.8400\n",
            "Epoch 13/50\n",
            "15/15 [==============================] - 0s 2ms/step - loss: 0.5735 - accuracy: 0.7600 - val_loss: 0.5479 - val_accuracy: 0.8400\n",
            "Epoch 14/50\n",
            "15/15 [==============================] - 0s 3ms/step - loss: 0.5554 - accuracy: 0.7600 - val_loss: 0.5282 - val_accuracy: 0.8400\n",
            "Epoch 15/50\n",
            "15/15 [==============================] - 0s 3ms/step - loss: 0.5389 - accuracy: 0.7733 - val_loss: 0.5118 - val_accuracy: 0.8667\n",
            "Epoch 16/50\n",
            "15/15 [==============================] - 0s 3ms/step - loss: 0.5237 - accuracy: 0.7600 - val_loss: 0.4946 - val_accuracy: 0.8400\n",
            "Epoch 17/50\n",
            "15/15 [==============================] - 0s 3ms/step - loss: 0.5087 - accuracy: 0.7733 - val_loss: 0.4817 - val_accuracy: 0.8800\n",
            "Epoch 18/50\n",
            "15/15 [==============================] - 0s 2ms/step - loss: 0.4950 - accuracy: 0.8000 - val_loss: 0.4677 - val_accuracy: 0.8933\n",
            "Epoch 19/50\n",
            "15/15 [==============================] - 0s 2ms/step - loss: 0.4821 - accuracy: 0.8267 - val_loss: 0.4554 - val_accuracy: 0.8933\n",
            "Epoch 20/50\n",
            "15/15 [==============================] - 0s 3ms/step - loss: 0.4703 - accuracy: 0.8267 - val_loss: 0.4449 - val_accuracy: 0.8933\n",
            "Epoch 21/50\n",
            "15/15 [==============================] - 0s 2ms/step - loss: 0.4590 - accuracy: 0.8267 - val_loss: 0.4343 - val_accuracy: 0.8800\n",
            "Epoch 22/50\n",
            "15/15 [==============================] - 0s 3ms/step - loss: 0.4485 - accuracy: 0.8267 - val_loss: 0.4229 - val_accuracy: 0.8800\n",
            "Epoch 23/50\n",
            "15/15 [==============================] - 0s 2ms/step - loss: 0.4387 - accuracy: 0.8400 - val_loss: 0.4147 - val_accuracy: 0.8933\n",
            "Epoch 24/50\n",
            "15/15 [==============================] - 0s 3ms/step - loss: 0.4275 - accuracy: 0.8400 - val_loss: 0.4050 - val_accuracy: 0.8933\n",
            "Epoch 25/50\n",
            "15/15 [==============================] - 0s 2ms/step - loss: 0.4180 - accuracy: 0.8533 - val_loss: 0.3969 - val_accuracy: 0.8933\n",
            "Epoch 26/50\n",
            "15/15 [==============================] - 0s 3ms/step - loss: 0.4086 - accuracy: 0.8533 - val_loss: 0.3884 - val_accuracy: 0.9067\n",
            "Epoch 27/50\n",
            "15/15 [==============================] - 0s 3ms/step - loss: 0.4000 - accuracy: 0.8533 - val_loss: 0.3804 - val_accuracy: 0.9067\n",
            "Epoch 28/50\n",
            "15/15 [==============================] - 0s 3ms/step - loss: 0.3917 - accuracy: 0.8533 - val_loss: 0.3739 - val_accuracy: 0.9067\n",
            "Epoch 29/50\n",
            "15/15 [==============================] - 0s 2ms/step - loss: 0.3828 - accuracy: 0.8800 - val_loss: 0.3666 - val_accuracy: 0.9200\n",
            "Epoch 30/50\n",
            "15/15 [==============================] - 0s 2ms/step - loss: 0.3750 - accuracy: 0.8800 - val_loss: 0.3597 - val_accuracy: 0.9067\n",
            "Epoch 31/50\n",
            "15/15 [==============================] - 0s 2ms/step - loss: 0.3667 - accuracy: 0.9067 - val_loss: 0.3527 - val_accuracy: 0.9200\n",
            "Epoch 32/50\n",
            "15/15 [==============================] - 0s 3ms/step - loss: 0.3595 - accuracy: 0.9067 - val_loss: 0.3463 - val_accuracy: 0.9200\n",
            "Epoch 33/50\n",
            "15/15 [==============================] - 0s 3ms/step - loss: 0.3516 - accuracy: 0.9067 - val_loss: 0.3406 - val_accuracy: 0.9333\n",
            "Epoch 34/50\n",
            "15/15 [==============================] - 0s 3ms/step - loss: 0.3450 - accuracy: 0.9200 - val_loss: 0.3353 - val_accuracy: 0.9333\n",
            "Epoch 35/50\n",
            "15/15 [==============================] - 0s 2ms/step - loss: 0.3376 - accuracy: 0.9200 - val_loss: 0.3292 - val_accuracy: 0.9333\n",
            "Epoch 36/50\n",
            "15/15 [==============================] - 0s 3ms/step - loss: 0.3307 - accuracy: 0.9200 - val_loss: 0.3235 - val_accuracy: 0.9333\n",
            "Epoch 37/50\n",
            "15/15 [==============================] - 0s 3ms/step - loss: 0.3239 - accuracy: 0.9200 - val_loss: 0.3171 - val_accuracy: 0.9333\n",
            "Epoch 38/50\n",
            "15/15 [==============================] - 0s 3ms/step - loss: 0.3175 - accuracy: 0.9200 - val_loss: 0.3126 - val_accuracy: 0.9200\n",
            "Epoch 39/50\n",
            "15/15 [==============================] - 0s 3ms/step - loss: 0.3109 - accuracy: 0.9200 - val_loss: 0.3074 - val_accuracy: 0.9200\n",
            "Epoch 40/50\n",
            "15/15 [==============================] - 0s 3ms/step - loss: 0.3049 - accuracy: 0.9200 - val_loss: 0.3032 - val_accuracy: 0.9200\n",
            "Epoch 41/50\n",
            "15/15 [==============================] - 0s 2ms/step - loss: 0.2997 - accuracy: 0.9200 - val_loss: 0.2967 - val_accuracy: 0.9200\n",
            "Epoch 42/50\n",
            "15/15 [==============================] - 0s 3ms/step - loss: 0.2930 - accuracy: 0.9200 - val_loss: 0.2924 - val_accuracy: 0.9200\n",
            "Epoch 43/50\n",
            "15/15 [==============================] - 0s 3ms/step - loss: 0.2875 - accuracy: 0.9200 - val_loss: 0.2878 - val_accuracy: 0.9200\n",
            "Epoch 44/50\n",
            "15/15 [==============================] - 0s 3ms/step - loss: 0.2823 - accuracy: 0.9200 - val_loss: 0.2840 - val_accuracy: 0.9200\n",
            "Epoch 45/50\n",
            "15/15 [==============================] - 0s 3ms/step - loss: 0.2767 - accuracy: 0.9200 - val_loss: 0.2796 - val_accuracy: 0.9200\n",
            "Epoch 46/50\n",
            "15/15 [==============================] - 0s 3ms/step - loss: 0.2719 - accuracy: 0.9467 - val_loss: 0.2764 - val_accuracy: 0.9200\n",
            "Epoch 47/50\n",
            "15/15 [==============================] - 0s 3ms/step - loss: 0.2666 - accuracy: 0.9600 - val_loss: 0.2722 - val_accuracy: 0.9200\n",
            "Epoch 48/50\n",
            "15/15 [==============================] - 0s 3ms/step - loss: 0.2619 - accuracy: 0.9600 - val_loss: 0.2685 - val_accuracy: 0.9067\n",
            "Epoch 49/50\n",
            "15/15 [==============================] - 0s 3ms/step - loss: 0.2569 - accuracy: 0.9600 - val_loss: 0.2645 - val_accuracy: 0.9067\n",
            "Epoch 50/50\n",
            "15/15 [==============================] - 0s 3ms/step - loss: 0.2521 - accuracy: 0.9600 - val_loss: 0.2612 - val_accuracy: 0.9067\n",
            "Sigmoid/sgd\n",
            "Epoch 1/50\n",
            "15/15 [==============================] - 0s 9ms/step - loss: 1.0241 - accuracy: 0.5200 - val_loss: 0.9986 - val_accuracy: 0.5867\n",
            "Epoch 2/50\n",
            "15/15 [==============================] - 0s 2ms/step - loss: 1.0019 - accuracy: 0.6400 - val_loss: 0.9804 - val_accuracy: 0.7067\n",
            "Epoch 3/50\n",
            "15/15 [==============================] - 0s 2ms/step - loss: 0.9821 - accuracy: 0.6667 - val_loss: 0.9638 - val_accuracy: 0.6933\n",
            "Epoch 4/50\n",
            "15/15 [==============================] - 0s 3ms/step - loss: 0.9632 - accuracy: 0.7067 - val_loss: 0.9484 - val_accuracy: 0.7200\n",
            "Epoch 5/50\n",
            "15/15 [==============================] - 0s 3ms/step - loss: 0.9464 - accuracy: 0.7600 - val_loss: 0.9339 - val_accuracy: 0.7600\n",
            "Epoch 6/50\n",
            "15/15 [==============================] - 0s 2ms/step - loss: 0.9311 - accuracy: 0.8267 - val_loss: 0.9201 - val_accuracy: 0.7733\n",
            "Epoch 7/50\n",
            "15/15 [==============================] - 0s 2ms/step - loss: 0.9161 - accuracy: 0.8400 - val_loss: 0.9069 - val_accuracy: 0.8133\n",
            "Epoch 8/50\n",
            "15/15 [==============================] - 0s 3ms/step - loss: 0.9030 - accuracy: 0.8533 - val_loss: 0.8940 - val_accuracy: 0.8133\n",
            "Epoch 9/50\n",
            "15/15 [==============================] - 0s 3ms/step - loss: 0.8908 - accuracy: 0.8267 - val_loss: 0.8815 - val_accuracy: 0.8267\n",
            "Epoch 10/50\n",
            "15/15 [==============================] - 0s 3ms/step - loss: 0.8774 - accuracy: 0.8267 - val_loss: 0.8694 - val_accuracy: 0.8667\n",
            "Epoch 11/50\n",
            "15/15 [==============================] - 0s 3ms/step - loss: 0.8649 - accuracy: 0.8667 - val_loss: 0.8577 - val_accuracy: 0.8667\n",
            "Epoch 12/50\n",
            "15/15 [==============================] - 0s 3ms/step - loss: 0.8530 - accuracy: 0.8800 - val_loss: 0.8461 - val_accuracy: 0.8800\n",
            "Epoch 13/50\n",
            "15/15 [==============================] - 0s 3ms/step - loss: 0.8423 - accuracy: 0.8800 - val_loss: 0.8349 - val_accuracy: 0.8933\n",
            "Epoch 14/50\n",
            "15/15 [==============================] - 0s 3ms/step - loss: 0.8300 - accuracy: 0.8933 - val_loss: 0.8238 - val_accuracy: 0.9067\n",
            "Epoch 15/50\n",
            "15/15 [==============================] - 0s 3ms/step - loss: 0.8202 - accuracy: 0.9067 - val_loss: 0.8129 - val_accuracy: 0.9067\n",
            "Epoch 16/50\n",
            "15/15 [==============================] - 0s 2ms/step - loss: 0.8092 - accuracy: 0.8667 - val_loss: 0.8025 - val_accuracy: 0.9067\n",
            "Epoch 17/50\n",
            "15/15 [==============================] - 0s 2ms/step - loss: 0.7994 - accuracy: 0.8933 - val_loss: 0.7922 - val_accuracy: 0.9067\n",
            "Epoch 18/50\n",
            "15/15 [==============================] - 0s 3ms/step - loss: 0.7907 - accuracy: 0.8533 - val_loss: 0.7824 - val_accuracy: 0.9067\n",
            "Epoch 19/50\n",
            "15/15 [==============================] - 0s 3ms/step - loss: 0.7803 - accuracy: 0.8800 - val_loss: 0.7728 - val_accuracy: 0.9200\n",
            "Epoch 20/50\n",
            "15/15 [==============================] - 0s 3ms/step - loss: 0.7714 - accuracy: 0.8667 - val_loss: 0.7633 - val_accuracy: 0.9200\n",
            "Epoch 21/50\n",
            "15/15 [==============================] - 0s 3ms/step - loss: 0.7616 - accuracy: 0.8800 - val_loss: 0.7541 - val_accuracy: 0.9200\n",
            "Epoch 22/50\n",
            "15/15 [==============================] - 0s 3ms/step - loss: 0.7525 - accuracy: 0.9067 - val_loss: 0.7451 - val_accuracy: 0.9200\n",
            "Epoch 23/50\n",
            "15/15 [==============================] - 0s 3ms/step - loss: 0.7439 - accuracy: 0.8933 - val_loss: 0.7365 - val_accuracy: 0.9200\n",
            "Epoch 24/50\n",
            "15/15 [==============================] - 0s 3ms/step - loss: 0.7356 - accuracy: 0.8800 - val_loss: 0.7280 - val_accuracy: 0.9200\n",
            "Epoch 25/50\n",
            "15/15 [==============================] - 0s 2ms/step - loss: 0.7276 - accuracy: 0.8800 - val_loss: 0.7198 - val_accuracy: 0.9200\n",
            "Epoch 26/50\n",
            "15/15 [==============================] - 0s 3ms/step - loss: 0.7206 - accuracy: 0.8800 - val_loss: 0.7116 - val_accuracy: 0.9200\n",
            "Epoch 27/50\n",
            "15/15 [==============================] - 0s 3ms/step - loss: 0.7117 - accuracy: 0.8933 - val_loss: 0.7036 - val_accuracy: 0.9200\n",
            "Epoch 28/50\n",
            "15/15 [==============================] - 0s 3ms/step - loss: 0.7044 - accuracy: 0.8933 - val_loss: 0.6959 - val_accuracy: 0.9200\n",
            "Epoch 29/50\n",
            "15/15 [==============================] - 0s 3ms/step - loss: 0.6973 - accuracy: 0.8800 - val_loss: 0.6885 - val_accuracy: 0.9333\n",
            "Epoch 30/50\n",
            "15/15 [==============================] - 0s 3ms/step - loss: 0.6895 - accuracy: 0.8667 - val_loss: 0.6812 - val_accuracy: 0.9333\n",
            "Epoch 31/50\n",
            "15/15 [==============================] - 0s 2ms/step - loss: 0.6831 - accuracy: 0.9067 - val_loss: 0.6739 - val_accuracy: 0.9200\n",
            "Epoch 32/50\n",
            "15/15 [==============================] - 0s 2ms/step - loss: 0.6756 - accuracy: 0.8800 - val_loss: 0.6670 - val_accuracy: 0.9333\n",
            "Epoch 33/50\n",
            "15/15 [==============================] - 0s 3ms/step - loss: 0.6695 - accuracy: 0.8933 - val_loss: 0.6603 - val_accuracy: 0.9333\n",
            "Epoch 34/50\n",
            "15/15 [==============================] - 0s 3ms/step - loss: 0.6624 - accuracy: 0.8800 - val_loss: 0.6537 - val_accuracy: 0.9333\n",
            "Epoch 35/50\n",
            "15/15 [==============================] - 0s 3ms/step - loss: 0.6571 - accuracy: 0.8933 - val_loss: 0.6471 - val_accuracy: 0.9333\n",
            "Epoch 36/50\n",
            "15/15 [==============================] - 0s 3ms/step - loss: 0.6495 - accuracy: 0.8933 - val_loss: 0.6407 - val_accuracy: 0.9333\n",
            "Epoch 37/50\n",
            "15/15 [==============================] - 0s 3ms/step - loss: 0.6440 - accuracy: 0.8933 - val_loss: 0.6344 - val_accuracy: 0.9333\n",
            "Epoch 38/50\n",
            "15/15 [==============================] - 0s 2ms/step - loss: 0.6383 - accuracy: 0.8800 - val_loss: 0.6285 - val_accuracy: 0.9333\n",
            "Epoch 39/50\n",
            "15/15 [==============================] - 0s 3ms/step - loss: 0.6322 - accuracy: 0.8933 - val_loss: 0.6226 - val_accuracy: 0.9200\n",
            "Epoch 40/50\n",
            "15/15 [==============================] - 0s 3ms/step - loss: 0.6263 - accuracy: 0.8933 - val_loss: 0.6168 - val_accuracy: 0.9200\n",
            "Epoch 41/50\n",
            "15/15 [==============================] - 0s 3ms/step - loss: 0.6211 - accuracy: 0.8933 - val_loss: 0.6111 - val_accuracy: 0.9200\n",
            "Epoch 42/50\n",
            "15/15 [==============================] - 0s 2ms/step - loss: 0.6151 - accuracy: 0.8933 - val_loss: 0.6056 - val_accuracy: 0.9200\n",
            "Epoch 43/50\n",
            "15/15 [==============================] - 0s 3ms/step - loss: 0.6101 - accuracy: 0.8933 - val_loss: 0.6001 - val_accuracy: 0.9200\n",
            "Epoch 44/50\n",
            "15/15 [==============================] - 0s 3ms/step - loss: 0.6049 - accuracy: 0.8933 - val_loss: 0.5948 - val_accuracy: 0.9200\n",
            "Epoch 45/50\n",
            "15/15 [==============================] - 0s 3ms/step - loss: 0.5999 - accuracy: 0.8933 - val_loss: 0.5896 - val_accuracy: 0.9200\n",
            "Epoch 46/50\n",
            "15/15 [==============================] - 0s 4ms/step - loss: 0.5952 - accuracy: 0.8933 - val_loss: 0.5846 - val_accuracy: 0.9200\n",
            "Epoch 47/50\n",
            "15/15 [==============================] - 0s 3ms/step - loss: 0.5903 - accuracy: 0.8933 - val_loss: 0.5799 - val_accuracy: 0.9200\n",
            "Epoch 48/50\n",
            "15/15 [==============================] - 0s 2ms/step - loss: 0.5853 - accuracy: 0.8933 - val_loss: 0.5752 - val_accuracy: 0.9333\n",
            "Epoch 49/50\n",
            "15/15 [==============================] - 0s 3ms/step - loss: 0.5809 - accuracy: 0.8933 - val_loss: 0.5706 - val_accuracy: 0.9333\n",
            "Epoch 50/50\n",
            "15/15 [==============================] - 0s 3ms/step - loss: 0.5760 - accuracy: 0.9067 - val_loss: 0.5660 - val_accuracy: 0.9333\n",
            "relu/sgd\n",
            "Epoch 1/50\n",
            "15/15 [==============================] - 0s 9ms/step - loss: 1.3932 - accuracy: 0.3333 - val_loss: 1.3133 - val_accuracy: 0.3333\n",
            "Epoch 2/50\n",
            "15/15 [==============================] - 0s 2ms/step - loss: 1.1291 - accuracy: 0.4000 - val_loss: 1.0684 - val_accuracy: 0.4267\n",
            "Epoch 3/50\n",
            "15/15 [==============================] - 0s 3ms/step - loss: 0.9522 - accuracy: 0.5067 - val_loss: 0.9058 - val_accuracy: 0.5467\n",
            "Epoch 4/50\n",
            "15/15 [==============================] - 0s 3ms/step - loss: 0.8394 - accuracy: 0.5867 - val_loss: 0.8033 - val_accuracy: 0.6533\n",
            "Epoch 5/50\n",
            "15/15 [==============================] - 0s 3ms/step - loss: 0.7673 - accuracy: 0.6533 - val_loss: 0.7333 - val_accuracy: 0.6800\n",
            "Epoch 6/50\n",
            "15/15 [==============================] - 0s 3ms/step - loss: 0.7167 - accuracy: 0.6533 - val_loss: 0.6838 - val_accuracy: 0.6800\n",
            "Epoch 7/50\n",
            "15/15 [==============================] - 0s 2ms/step - loss: 0.6799 - accuracy: 0.6667 - val_loss: 0.6448 - val_accuracy: 0.6800\n",
            "Epoch 8/50\n",
            "15/15 [==============================] - 0s 2ms/step - loss: 0.6492 - accuracy: 0.6667 - val_loss: 0.6133 - val_accuracy: 0.6800\n",
            "Epoch 9/50\n",
            "15/15 [==============================] - 0s 3ms/step - loss: 0.6231 - accuracy: 0.6667 - val_loss: 0.5869 - val_accuracy: 0.7067\n",
            "Epoch 10/50\n",
            "15/15 [==============================] - 0s 3ms/step - loss: 0.6006 - accuracy: 0.6800 - val_loss: 0.5641 - val_accuracy: 0.7067\n",
            "Epoch 11/50\n",
            "15/15 [==============================] - 0s 3ms/step - loss: 0.5804 - accuracy: 0.6933 - val_loss: 0.5442 - val_accuracy: 0.7200\n",
            "Epoch 12/50\n",
            "15/15 [==============================] - 0s 3ms/step - loss: 0.5624 - accuracy: 0.7067 - val_loss: 0.5263 - val_accuracy: 0.7333\n",
            "Epoch 13/50\n",
            "15/15 [==============================] - 0s 3ms/step - loss: 0.5460 - accuracy: 0.7200 - val_loss: 0.5100 - val_accuracy: 0.7600\n",
            "Epoch 14/50\n",
            "15/15 [==============================] - 0s 3ms/step - loss: 0.5312 - accuracy: 0.7467 - val_loss: 0.4951 - val_accuracy: 0.8000\n",
            "Epoch 15/50\n",
            "15/15 [==============================] - 0s 3ms/step - loss: 0.5165 - accuracy: 0.7600 - val_loss: 0.4814 - val_accuracy: 0.8267\n",
            "Epoch 16/50\n",
            "15/15 [==============================] - 0s 3ms/step - loss: 0.5037 - accuracy: 0.7867 - val_loss: 0.4687 - val_accuracy: 0.8533\n",
            "Epoch 17/50\n",
            "15/15 [==============================] - 0s 2ms/step - loss: 0.4916 - accuracy: 0.7867 - val_loss: 0.4568 - val_accuracy: 0.8667\n",
            "Epoch 18/50\n",
            "15/15 [==============================] - 0s 3ms/step - loss: 0.4795 - accuracy: 0.8000 - val_loss: 0.4458 - val_accuracy: 0.8800\n",
            "Epoch 19/50\n",
            "15/15 [==============================] - 0s 3ms/step - loss: 0.4685 - accuracy: 0.8267 - val_loss: 0.4355 - val_accuracy: 0.8933\n",
            "Epoch 20/50\n",
            "15/15 [==============================] - 0s 3ms/step - loss: 0.4582 - accuracy: 0.8267 - val_loss: 0.4257 - val_accuracy: 0.8933\n",
            "Epoch 21/50\n",
            "15/15 [==============================] - 0s 3ms/step - loss: 0.4483 - accuracy: 0.8267 - val_loss: 0.4165 - val_accuracy: 0.9067\n",
            "Epoch 22/50\n",
            "15/15 [==============================] - 0s 3ms/step - loss: 0.4395 - accuracy: 0.8267 - val_loss: 0.4077 - val_accuracy: 0.9067\n",
            "Epoch 23/50\n",
            "15/15 [==============================] - 0s 3ms/step - loss: 0.4299 - accuracy: 0.8267 - val_loss: 0.3994 - val_accuracy: 0.9067\n",
            "Epoch 24/50\n",
            "15/15 [==============================] - 0s 3ms/step - loss: 0.4209 - accuracy: 0.8267 - val_loss: 0.3915 - val_accuracy: 0.9067\n",
            "Epoch 25/50\n",
            "15/15 [==============================] - 0s 3ms/step - loss: 0.4128 - accuracy: 0.8267 - val_loss: 0.3840 - val_accuracy: 0.9067\n",
            "Epoch 26/50\n",
            "15/15 [==============================] - 0s 3ms/step - loss: 0.4048 - accuracy: 0.8400 - val_loss: 0.3770 - val_accuracy: 0.9067\n",
            "Epoch 27/50\n",
            "15/15 [==============================] - 0s 3ms/step - loss: 0.3964 - accuracy: 0.8533 - val_loss: 0.3702 - val_accuracy: 0.9067\n",
            "Epoch 28/50\n",
            "15/15 [==============================] - 0s 3ms/step - loss: 0.3889 - accuracy: 0.8533 - val_loss: 0.3636 - val_accuracy: 0.9067\n",
            "Epoch 29/50\n",
            "15/15 [==============================] - 0s 3ms/step - loss: 0.3814 - accuracy: 0.8667 - val_loss: 0.3574 - val_accuracy: 0.8933\n",
            "Epoch 30/50\n",
            "15/15 [==============================] - 0s 3ms/step - loss: 0.3748 - accuracy: 0.8800 - val_loss: 0.3515 - val_accuracy: 0.8933\n",
            "Epoch 31/50\n",
            "15/15 [==============================] - 0s 3ms/step - loss: 0.3684 - accuracy: 0.8800 - val_loss: 0.3459 - val_accuracy: 0.8933\n",
            "Epoch 32/50\n",
            "15/15 [==============================] - 0s 3ms/step - loss: 0.3619 - accuracy: 0.8933 - val_loss: 0.3406 - val_accuracy: 0.9333\n",
            "Epoch 33/50\n",
            "15/15 [==============================] - 0s 3ms/step - loss: 0.3553 - accuracy: 0.8933 - val_loss: 0.3353 - val_accuracy: 0.9333\n",
            "Epoch 34/50\n",
            "15/15 [==============================] - 0s 3ms/step - loss: 0.3495 - accuracy: 0.8933 - val_loss: 0.3304 - val_accuracy: 0.9333\n",
            "Epoch 35/50\n",
            "15/15 [==============================] - 0s 3ms/step - loss: 0.3436 - accuracy: 0.9067 - val_loss: 0.3256 - val_accuracy: 0.9333\n",
            "Epoch 36/50\n",
            "15/15 [==============================] - 0s 3ms/step - loss: 0.3381 - accuracy: 0.9067 - val_loss: 0.3209 - val_accuracy: 0.9333\n",
            "Epoch 37/50\n",
            "15/15 [==============================] - 0s 3ms/step - loss: 0.3330 - accuracy: 0.9067 - val_loss: 0.3165 - val_accuracy: 0.9333\n",
            "Epoch 38/50\n",
            "15/15 [==============================] - 0s 3ms/step - loss: 0.3276 - accuracy: 0.9067 - val_loss: 0.3123 - val_accuracy: 0.9333\n",
            "Epoch 39/50\n",
            "15/15 [==============================] - 0s 3ms/step - loss: 0.3228 - accuracy: 0.9067 - val_loss: 0.3085 - val_accuracy: 0.9200\n",
            "Epoch 40/50\n",
            "15/15 [==============================] - 0s 3ms/step - loss: 0.3178 - accuracy: 0.9067 - val_loss: 0.3046 - val_accuracy: 0.9200\n",
            "Epoch 41/50\n",
            "15/15 [==============================] - 0s 3ms/step - loss: 0.3130 - accuracy: 0.9067 - val_loss: 0.3010 - val_accuracy: 0.9200\n",
            "Epoch 42/50\n",
            "15/15 [==============================] - 0s 3ms/step - loss: 0.3087 - accuracy: 0.9067 - val_loss: 0.2975 - val_accuracy: 0.9200\n",
            "Epoch 43/50\n",
            "15/15 [==============================] - 0s 3ms/step - loss: 0.3039 - accuracy: 0.9200 - val_loss: 0.2940 - val_accuracy: 0.9200\n",
            "Epoch 44/50\n",
            "15/15 [==============================] - 0s 3ms/step - loss: 0.3001 - accuracy: 0.9200 - val_loss: 0.2908 - val_accuracy: 0.9200\n",
            "Epoch 45/50\n",
            "15/15 [==============================] - 0s 3ms/step - loss: 0.2958 - accuracy: 0.9200 - val_loss: 0.2876 - val_accuracy: 0.9200\n",
            "Epoch 46/50\n",
            "15/15 [==============================] - 0s 3ms/step - loss: 0.2922 - accuracy: 0.9067 - val_loss: 0.2845 - val_accuracy: 0.9200\n",
            "Epoch 47/50\n",
            "15/15 [==============================] - 0s 3ms/step - loss: 0.2884 - accuracy: 0.9067 - val_loss: 0.2815 - val_accuracy: 0.9200\n",
            "Epoch 48/50\n",
            "15/15 [==============================] - 0s 3ms/step - loss: 0.2844 - accuracy: 0.9200 - val_loss: 0.2786 - val_accuracy: 0.9200\n",
            "Epoch 49/50\n",
            "15/15 [==============================] - 0s 3ms/step - loss: 0.2806 - accuracy: 0.9067 - val_loss: 0.2757 - val_accuracy: 0.9200\n",
            "Epoch 50/50\n",
            "15/15 [==============================] - 0s 3ms/step - loss: 0.2764 - accuracy: 0.9067 - val_loss: 0.2729 - val_accuracy: 0.9200\n"
          ],
          "name": "stdout"
        },
        {
          "output_type": "execute_result",
          "data": {
            "text/plain": [
              "<tensorflow.python.keras.callbacks.History at 0x7f80f190c978>"
            ]
          },
          "metadata": {
            "tags": []
          },
          "execution_count": 15
        }
      ]
    },
    {
      "cell_type": "markdown",
      "metadata": {
        "id": "RY2F9paoPWNT"
      },
      "source": [
        "#Comparaison automatique de modèles"
      ]
    },
    {
      "cell_type": "markdown",
      "metadata": {
        "id": "5R0Fa9ZwPtAB"
      },
      "source": [
        "Le code suivant permet de créer plusieurs modèles. "
      ]
    },
    {
      "cell_type": "markdown",
      "metadata": {
        "id": "JoYEhB1LLlAN"
      },
      "source": [
        ""
      ]
    },
    {
      "cell_type": "code",
      "metadata": {
        "colab": {
          "base_uri": "https://localhost:8080/"
        },
        "id": "qJlz9behJS_j",
        "outputId": "3651d092-6976-4308-d594-8904cbe74dcf"
      },
      "source": [
        "from keras.models import Sequential\n",
        "from keras.layers import Dense\n",
        "\n",
        "def create_custom_model(input_dim, output_dim, nodes, n=1, name='model'):\n",
        "    def create_model():\n",
        "        # Create model\n",
        "        model = Sequential(name=name)\n",
        "        for i in range(n):\n",
        "            model.add(Dense(nodes, input_dim=input_dim, activation='relu'))\n",
        "        model.add(Dense(output_dim, activation='softmax'))\n",
        "\n",
        "        # Compile model\n",
        "        model.compile(loss='categorical_crossentropy', \n",
        "                      optimizer='adam', \n",
        "                      metrics=['accuracy'])\n",
        "        return model\n",
        "    return create_model\n",
        "\n",
        "models = [create_custom_model(n_features, n_classes, 8, i, 'model_{}'.format(i)) \n",
        "          for i in range(1, 4)]\n",
        "\n",
        "for create_model in models:\n",
        "    create_model().summary()\n"
      ],
      "execution_count": 16,
      "outputs": [
        {
          "output_type": "stream",
          "text": [
            "Model: \"model_1\"\n",
            "_________________________________________________________________\n",
            "Layer (type)                 Output Shape              Param #   \n",
            "=================================================================\n",
            "dense_16 (Dense)             (None, 8)                 40        \n",
            "_________________________________________________________________\n",
            "dense_17 (Dense)             (None, 3)                 27        \n",
            "=================================================================\n",
            "Total params: 67\n",
            "Trainable params: 67\n",
            "Non-trainable params: 0\n",
            "_________________________________________________________________\n",
            "Model: \"model_2\"\n",
            "_________________________________________________________________\n",
            "Layer (type)                 Output Shape              Param #   \n",
            "=================================================================\n",
            "dense_18 (Dense)             (None, 8)                 40        \n",
            "_________________________________________________________________\n",
            "dense_19 (Dense)             (None, 8)                 72        \n",
            "_________________________________________________________________\n",
            "dense_20 (Dense)             (None, 3)                 27        \n",
            "=================================================================\n",
            "Total params: 139\n",
            "Trainable params: 139\n",
            "Non-trainable params: 0\n",
            "_________________________________________________________________\n",
            "Model: \"model_3\"\n",
            "_________________________________________________________________\n",
            "Layer (type)                 Output Shape              Param #   \n",
            "=================================================================\n",
            "dense_21 (Dense)             (None, 8)                 40        \n",
            "_________________________________________________________________\n",
            "dense_22 (Dense)             (None, 8)                 72        \n",
            "_________________________________________________________________\n",
            "dense_23 (Dense)             (None, 8)                 72        \n",
            "_________________________________________________________________\n",
            "dense_24 (Dense)             (None, 3)                 27        \n",
            "=================================================================\n",
            "Total params: 211\n",
            "Trainable params: 211\n",
            "Non-trainable params: 0\n",
            "_________________________________________________________________\n"
          ],
          "name": "stdout"
        }
      ]
    },
    {
      "cell_type": "markdown",
      "metadata": {
        "id": "G6Cq_U1cP5Fi"
      },
      "source": [
        "##Question 7\n",
        "Quelle est la différence entre ces 3 modèles ?\n",
        "\n",
        "--------------------------\n",
        "\n",
        "A chaque tour de boucle de création d'un modèle, on a i incrémenté. i est le paramètre n dans le prototype de la fonction. On voir alors que à chaque boucle de création, une nouvelle couche (Dense) avec une fonction de transfert 'relu' est ajoutée.\n",
        "\n",
        "Le modèle est donc plus \"profond\" et est, normalement, censé être plus performant."
      ]
    },
    {
      "cell_type": "markdown",
      "metadata": {
        "id": "fGMCMdzfRB67"
      },
      "source": [
        "Le code suivant permet de les exécuter en parallèle et de stocker les résultats dans le dictionnaire `history_dict`. Nous n'entrerons pas ici dans les mécanismes de `callback` qui sont gérés via `TensorBoard`. Il faut simplement savoir que `Tensor Flow` est associé à une libraire `TensorBoard` qui permet la gestion et la supervision de tensor flow. En particulier, elle permet d'utiliser un serveur html pour afficher la progression des algorithmes en temps réel sur une page web via un mécanismes de callback."
      ]
    },
    {
      "cell_type": "code",
      "metadata": {
        "colab": {
          "base_uri": "https://localhost:8080/"
        },
        "id": "dhTGVIzTJf6y",
        "outputId": "8ee2addf-828e-4526-9d8b-afe6c2e5b881"
      },
      "source": [
        "from keras.callbacks import TensorBoard\n",
        "\n",
        "history_dict = {}\n",
        "\n",
        "# TensorBoard Callback\n",
        "cb = TensorBoard()\n",
        "\n",
        "for create_model in models:\n",
        "    model = create_model()\n",
        "    print('Model name:', model.name)\n",
        "    history_callback = model.fit(X_train, Y_train,\n",
        "                                 batch_size=5,\n",
        "                                 epochs=50,\n",
        "                                 verbose=0,\n",
        "                                 validation_data=(X_test, Y_test),\n",
        "                                 callbacks=[cb])\n",
        "    score = model.evaluate(X_test, Y_test, verbose=0)\n",
        "    print('Test loss:', score[0])\n",
        "    print('Test accuracy:', score[1])\n",
        "    \n",
        "    history_dict[model.name] = [history_callback, model]\n"
      ],
      "execution_count": 17,
      "outputs": [
        {
          "output_type": "stream",
          "text": [
            "Model name: model_1\n",
            "WARNING:tensorflow:From /usr/local/lib/python3.6/dist-packages/tensorflow/python/ops/summary_ops_v2.py:1277: stop (from tensorflow.python.eager.profiler) is deprecated and will be removed after 2020-07-01.\n",
            "Instructions for updating:\n",
            "use `tf.profiler.experimental.stop` instead.\n",
            "WARNING:tensorflow:Callbacks method `on_train_batch_end` is slow compared to the batch time (batch time: 0.0072s vs `on_train_batch_end` time: 0.0373s). Check your callbacks.\n",
            "Test loss: 0.30282360315322876\n",
            "Test accuracy: 0.8933333158493042\n",
            "Model name: model_2\n",
            "WARNING:tensorflow:Callbacks method `on_train_batch_end` is slow compared to the batch time (batch time: 0.0014s vs `on_train_batch_end` time: 0.0376s). Check your callbacks.\n",
            "Test loss: 0.227634459733963\n",
            "Test accuracy: 0.9200000166893005\n",
            "Model name: model_3\n",
            "WARNING:tensorflow:Callbacks method `on_train_batch_end` is slow compared to the batch time (batch time: 0.0015s vs `on_train_batch_end` time: 0.0434s). Check your callbacks.\n",
            "Test loss: 0.16088250279426575\n",
            "Test accuracy: 0.9333333373069763\n"
          ],
          "name": "stdout"
        }
      ]
    },
    {
      "cell_type": "markdown",
      "metadata": {
        "id": "agRhnLjJRTaD"
      },
      "source": [
        "Ce dictionnaire est utilisé pour tracer des courbes de comparaison de performance :"
      ]
    },
    {
      "cell_type": "code",
      "metadata": {
        "colab": {
          "base_uri": "https://localhost:8080/",
          "height": 388
        },
        "id": "Hb549OR9JmgS",
        "outputId": "969de535-75f0-41b8-ce17-3063eb854478"
      },
      "source": [
        "fig, (ax1, ax2) = plt.subplots(2, figsize=(8, 6))\n",
        "\n",
        "for model_name in history_dict:\n",
        "    val_accurady = history_dict[model_name][0].history['val_accuracy']\n",
        "    val_loss = history_dict[model_name][0].history['val_loss']\n",
        "    ax1.plot(val_accurady, label=model_name)\n",
        "    ax2.plot(val_loss, label=model_name)\n",
        "    \n",
        "ax1.set_ylabel('validation accuracy')\n",
        "ax2.set_ylabel('validation loss')\n",
        "ax2.set_xlabel('epochs')\n",
        "ax1.legend()\n",
        "ax2.legend();\n"
      ],
      "execution_count": 18,
      "outputs": [
        {
          "output_type": "display_data",
          "data": {
            "image/png": "[encoded data removed]",
            "text/plain": [
              "<Figure size 576x432 with 2 Axes>"
            ]
          },
          "metadata": {
            "tags": [],
            "needs_background": "light"
          }
        }
      ]
    },
    {
      "cell_type": "markdown",
      "metadata": {
        "id": "ogD97lNeU1Mj"
      },
      "source": [
        "##Obtention de la courbe ROC \n",
        "La courbe ROC est un moyen d'évaluer la qualité d'un classifieur. Elle indique le taux de faux positifs et de faux négatifs selon le seuil que l'on fixe pour séparer le fait que les données appartiennent ou non à une classe. Ici, on prend la sortie du classifieur softmax, on fixe un seuil d'acceptation pour une classe donnée, on observe le classement issue du classifieur associé à ce seuil pour chaque donnée de test. Si le seuil est très bas, les données vont toutes être dans la classe. Si on compare à la classe réelle, on vera qu'il y a des données mal classées, ce seront les faux positifs. Plus le seuil est faible plus le nombre de faux positifs s'approche des 100%. A l'inverse si le seuil est très haut, des données seront classées hors de la classe alors qu'elles en font partie. Ce sont des faux négatifs. Plus le seuil est haut plus le taux de faux négatifs s'approche de 100%. On obtient donc des points extrèmes en haut à droites et en bas à gauche d'une courbe ROC. Les points intermédiaires vont permettre de délimiter une *aire sous la courbe*. Un classifieur parfait possède une aire sous la courbe de 1. Un classifieur *aléatoire* possède une aire sous la courbe de 0.5. Le code suivant montre l'air sous la courbe de vos modèles. \n"
      ]
    },
    {
      "cell_type": "code",
      "metadata": {
        "colab": {
          "base_uri": "https://localhost:8080/",
          "height": 621
        },
        "id": "Qyt3zO80V__b",
        "outputId": "3864dae8-0426-4195-a5ec-000469ec47e6"
      },
      "source": [
        "from sklearn.metrics import roc_curve, auc\n",
        "\n",
        "plt.figure(figsize=(10, 10))\n",
        "plt.plot([0, 1], [0, 1], 'k--')\n",
        "\n",
        "for model_name in history_dict:\n",
        "    model = history_dict[model_name][1]\n",
        "    \n",
        "    Y_pred = model.predict(X_test)\n",
        "    fpr, tpr, threshold = roc_curve(Y_test.ravel(), Y_pred.ravel())\n",
        "    \n",
        "    plt.plot(fpr, tpr, label='{}, AUC = {:.3f}'.format(model_name, auc(fpr, tpr)))\n",
        "plt.xlabel('False positive rate')\n",
        "plt.ylabel('True positive rate')\n",
        "plt.title('ROC curve')\n",
        "plt.legend();\n"
      ],
      "execution_count": 19,
      "outputs": [
        {
          "output_type": "display_data",
          "data": {
            "image/png": "[encoded data removed]",
            "text/plain": [
              "<Figure size 720x720 with 1 Axes>"
            ]
          },
          "metadata": {
            "tags": [],
            "needs_background": "light"
          }
        }
      ]
    },
    {
      "cell_type": "code",
      "metadata": {
        "id": "kl3uBfXzTfgr"
      },
      "source": [
        ""
      ],
      "execution_count": null,
      "outputs": []
    },
    {
      "cell_type": "markdown",
      "metadata": {
        "id": "mhyzuqp7Rjc7"
      },
      "source": [
        "##Question 8\n",
        "En modifiant les modèles en termes de fonction de transfert des neurones, nombre de couches par modèle, nombre de neurones ou encore fonction de transfert des neurones, essayez de déterminer une configuration qui *bat* le modèle 2.\n",
        "Montrez ses différentes courves de performances.\n",
        "\n",
        "------------------------\n",
        "\n",
        "Le modèle 3 est déjà plus performant que le modèle 2, ce qui est logique, car il présente plus de couches que le modèle 2. L'IA a donc plus de capacités d'apprentissage, il est donc normal qu'elle soit plus performante."
      ]
    },
    {
      "cell_type": "markdown",
      "metadata": {
        "id": "RhUDpQXumXhy"
      },
      "source": [
        "# Plus loin sur Tensor Flow\n",
        "\n",
        "Nous allons présenter la programmation plus bas niveau de tensorFlow. En tensorFlow, il faut définir un modèle avant tout calcul. Ce modèle est traduit en un graphe qui peut être distribué (sur GPU, sur grappes de machines ...)."
      ]
    },
    {
      "cell_type": "code",
      "metadata": {
        "id": "5WOY5V61mr7X"
      },
      "source": [
        "import tensorflow as tf\n",
        "x = tf.Variable(3, name=\"x\")\n",
        "y= tf.Variable(4, name=\"y\")\n",
        "f = x*x*y + y +2  "
      ],
      "execution_count": null,
      "outputs": []
    },
    {
      "cell_type": "markdown",
      "metadata": {
        "id": "jHBZO1xpm5CG"
      },
      "source": [
        "L'argument 'name' est facultatif mais utile pour les affichages et en particulier le 'tensorBoard' (abordé un peu plus loin dans ce TP). Pour exécuter le calcul, et par exemple obtenir la valeur de f, il faut créer une 'session'. Dans une session, on peut calculer les valeurs d'un noeud avec la méthode 'run()' de la session. Avant cela, il faut initialiser les valeurs des variables qui ont des valeurs initiales grâce à 'initializer'. "
      ]
    },
    {
      "cell_type": "code",
      "metadata": {
        "colab": {
          "base_uri": "https://localhost:8080/"
        },
        "id": "H_hzBfppm6M3",
        "outputId": "000b6f8b-7a20-40bb-93c3-da0392a9aed7"
      },
      "source": [
        "print(f)"
      ],
      "execution_count": null,
      "outputs": [
        {
          "output_type": "stream",
          "text": [
            "tf.Tensor(42, shape=(), dtype=int32)\n"
          ],
          "name": "stdout"
        }
      ]
    }
  ]
}